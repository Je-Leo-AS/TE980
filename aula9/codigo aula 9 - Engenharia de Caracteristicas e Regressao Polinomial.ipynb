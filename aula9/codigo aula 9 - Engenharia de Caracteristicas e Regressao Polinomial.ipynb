{
 "cells": [
  {
   "cell_type": "markdown",
   "id": "35e0abc8",
   "metadata": {
    "pycharm": {
     "name": "#%% md\n"
    }
   },
   "source": [
    "# Engenharia de Características e Regressão Polinomial\n"
   ]
  },
  {
   "cell_type": "markdown",
   "id": "557fe8f6",
   "metadata": {
    "pycharm": {
     "name": "#%% md\n"
    }
   },
   "source": [
    "## Objetivos\n",
    "Com este código você irá:\n",
    "- explorar a Engenharia de Características e a regressão polinomial. Isso permite o uso de regressão linear para ajustar funções mais complexas (funções polinomiais, por exemplo).\n"
   ]
  },
  {
   "cell_type": "code",
   "execution_count": 3,
   "id": "be596fa8",
   "metadata": {
    "pycharm": {
     "name": "#%%\n"
    }
   },
   "outputs": [],
   "source": [
    "import math\n",
    "import numpy as np\n",
    "import matplotlib.pyplot as plt\n",
    "np.set_printoptions(precision=3)  #Reduz precisão ao dar print das arrays numpy"
   ]
  },
  {
   "cell_type": "markdown",
   "id": "8143a5fe",
   "metadata": {
    "pycharm": {
     "name": "#%% md\n"
    }
   },
   "source": [
    "## Engenharia de Características e Regressão Polinomial: Uma revisão\n",
    "\n",
    "A regressão linear provê uma forma de construção de modelos do tipo:\n",
    "\n",
    "$$f_{\\mathbf{w},b} = w_0x_0 + w_1x_1+ ... + w_{n-1}x_{n-1} + b \\tag{1}$$ \n",
    "\n",
    "O que acontece se suas características (seus dados) são não lineares ou combinações de múltiplas características? Por exemplo, o preço de casas tende ser não linear com a área, penalizando casas muito pequenas ou casas muito grandes. Como construir um modelo que se ajusta a esse comportamento?"
   ]
  },
  {
   "cell_type": "markdown",
   "id": "87451be8",
   "metadata": {
    "pycharm": {
     "name": "#%% md\n"
    }
   },
   "source": [
    "\n",
    "## Características Polinomiais\n",
    "\n",
    "Nós estamos considerando aqui um cenário onde os dados têm um comportamento não linear. Vamos começar com uma função quadrática bastante simples: $y = 1+x^2$.\n",
    "\n",
    "Abaixo nós criamos os dados:"
   ]
  },
  {
   "cell_type": "code",
   "execution_count": 4,
   "id": "31e7ac13",
   "metadata": {},
   "outputs": [],
   "source": [
    "# Criando os dados\n",
    "x = np.arange(0, 20, 1) # resultado tem shape (20,)\n",
    "y = 1 + x**2\n",
    "X = x.reshape(-1,1) # resultado tem shape (20,1)"
   ]
  },
  {
   "cell_type": "markdown",
   "id": "f98d6c5b",
   "metadata": {
    "pycharm": {
     "name": "#%% md\n"
    }
   },
   "source": [
    "\n",
    "### Nossa própria biblioteca de funções\n",
    "\n",
    "Nesse código usaremos também um arquivo adicional denominado \"nossa_biblioteca_de_funcoes.py\". Se você abrir o arquivo, perceberá que trata-se apenas de um arquivo com as funções que implementam o Método do Gradiente e mais algumas funções adicionais, como a função *normalizacao_zscore* (todas já foram vistas em atividades de programação interiores). Usaremos esse arquivo para armazenar funções já desenvolvidas em códigos anteriores e que poderão ser utilizadas também no presente código e nos seguintes.\n",
    "\n",
    "Para carregarmos as funções que estão nessa biblioteca e que usaremos aqui, usaremos o comando abaixo:"
   ]
  },
  {
   "cell_type": "code",
   "execution_count": 5,
   "id": "48ed0ec9",
   "metadata": {},
   "outputs": [],
   "source": [
    "from nossa_biblioteca_de_funcoes import metodo_do_gradiente, calcula_custo, calcula_gradiente, normalizacao_zscore"
   ]
  },
  {
   "cell_type": "markdown",
   "id": "a3d5584e",
   "metadata": {
    "pycharm": {
     "name": "#%% md\n"
    }
   },
   "source": [
    "Abaixo estimamos uma reta $f_{w,b} = wx+b$ para esses dados:"
   ]
  },
  {
   "cell_type": "code",
   "execution_count": 6,
   "id": "ba534bb5",
   "metadata": {},
   "outputs": [
    {
     "name": "stdout",
     "output_type": "stream",
     "text": [
      "Iteração    0: Custo  1657.56   \n",
      "Iteração  200: Custo   588.48   \n",
      "Iteração  400: Custo   490.10   \n",
      "Iteração  600: Custo   456.43   \n",
      "Iteração  800: Custo   444.90   \n",
      "Iteração 1000: Custo   440.95   \n",
      "Iteração 1200: Custo   439.60   \n",
      "Iteração 1400: Custo   439.14   \n",
      "Iteração 1600: Custo   438.98   \n",
      "Iteração 1800: Custo   438.93   \n",
      "b,w encontrados pelo método do gradiente: -55.73,[18.979] \n"
     ]
    },
    {
     "data": {
      "image/png": "[encoded data removed]",
      "text/plain": [
       "<Figure size 432x288 with 1 Axes>"
      ]
     },
     "metadata": {
      "needs_background": "light"
     },
     "output_type": "display_data"
    }
   ],
   "source": [
    "# inicializando parâmetros\n",
    "initial_w = np.array([0.0])\n",
    "initial_b = 0\n",
    "# parâmetros para rodar o Método do Gradiente:\n",
    "iterations = 2000\n",
    "alpha      = 0.01\n",
    "# Rodando o Método do gradiente \n",
    "w_final, b_final, J_hist = metodo_do_gradiente(X, y, initial_w, initial_b,\n",
    "                                                    calcula_custo, calcula_gradiente, \n",
    "                                                    alpha, iterations)\n",
    "print(f\"b,w encontrados pelo método do gradiente: {b_final:0.2f},{w_final} \")\n",
    "\n",
    "# Plotando os resultados\n",
    "plt.scatter(x, y, marker='x', c='r', label=\"Value Verdadeiro\"); plt.title(\"Sem Engenharia de Características\")\n",
    "plt.plot(x,X@w_final + b_final, label=\"Valor estimado\");  plt.xlabel(\"X\"); plt.ylabel(\"y\"); plt.legend(); plt.show()"
   ]
  },
  {
   "cell_type": "markdown",
   "id": "21ed5147",
   "metadata": {
    "pycharm": {
     "name": "#%% md\n"
    }
   },
   "source": [
    "Bem, como esperado, não obtivemos uma aproximação muito boa. O que precisamos é de algo como $y= w_0x_0^2 + b$, ou seja, de uma **característica polinomial** no nosso modelo.\n",
    "\n",
    "Para obter isso, você pode modificar os *dados de entrada* para $criar$ as características desejadas. Abaixo, trocarmos `X` por `X**2` no código:"
   ]
  },
  {
   "cell_type": "code",
   "execution_count": 7,
   "id": "3b929b7a",
   "metadata": {
    "pycharm": {
     "name": "#%%\n"
    }
   },
   "outputs": [],
   "source": [
    "# Característica polinomial: \n",
    "X = x**2\n",
    "X = X.reshape(-1, 1) # X deve ser uma matriz 2-D"
   ]
  },
  {
   "cell_type": "code",
   "execution_count": 8,
   "id": "42ac2a2d",
   "metadata": {},
   "outputs": [
    {
     "name": "stdout",
     "output_type": "stream",
     "text": [
      "Iteração    0: Custo  7329.22   \n",
      "Iteração 1000: Custo     0.22   \n",
      "Iteração 2000: Custo     0.22   \n",
      "Iteração 3000: Custo     0.22   \n",
      "Iteração 4000: Custo     0.22   \n",
      "Iteração 5000: Custo     0.22   \n",
      "Iteração 6000: Custo     0.21   \n",
      "Iteração 7000: Custo     0.21   \n",
      "Iteração 8000: Custo     0.21   \n",
      "Iteração 9000: Custo     0.21   \n",
      "b,w encontrados pelo método do gradiente: 0.05,[1.004] \n"
     ]
    },
    {
     "data": {
      "image/png": "[encoded data removed]",
      "text/plain": [
       "<Figure size 432x288 with 1 Axes>"
      ]
     },
     "metadata": {
      "needs_background": "light"
     },
     "output_type": "display_data"
    }
   ],
   "source": [
    "# inicializando parâmetros\n",
    "initial_w = np.array([0.0])\n",
    "initial_b = 0\n",
    "# parâmetros para rodar o Método do Gradiente:\n",
    "iterations = 10000\n",
    "alpha      = 0.00001 # Veja que foi necessário reduzir o alpha drasticamente\n",
    "# Rodando o Método do gradiente \n",
    "\n",
    "w_final, b_final, J_hist = metodo_do_gradiente(X, y, initial_w, initial_b,\n",
    "                                                    calcula_custo, calcula_gradiente, \n",
    "                                                    alpha, iterations)\n",
    "print(f\"b,w encontrados pelo método do gradiente: {b_final:0.2f},{w_final} \")\n",
    "\n",
    "# Plotando os resultados\n",
    "plt.scatter(x, y, marker='x', c='r', label=\"Value Verdadeiro\"); plt.title(\"Com Engenharia de Características\")\n",
    "plt.plot(x,X@w_final + b_final, label=\"Valor estimado\");  plt.xlabel(\"X\"); plt.ylabel(\"y\"); plt.legend(); plt.show()"
   ]
  },
  {
   "cell_type": "markdown",
   "id": "a19b6235",
   "metadata": {
    "pycharm": {
     "name": "#%% md\n"
    }
   },
   "source": [
    "Uma aproximação quase perfeita! Note que os valores obtidos para $\\mathbf{w}$ e b foram: `b=0.05, w=1.004`. \n",
    "O Método do Gradiente modificou nossos valores iniciais de forma a obter o modelo $y=0.05 + 1.004*x_0^2$, algo bem próximo do nosso alvo $y=1*x_0^2+1$."
   ]
  },
  {
   "cell_type": "markdown",
   "id": "f7932238",
   "metadata": {
    "pycharm": {
     "name": "#%% md\n"
    }
   },
   "source": [
    "### Selecionando Características\n",
    "\n",
    "Acima, nós já sabíamos que o termo $x^2$ era necessário. Entretanto, nem sempre é óbvio quais características são necessárias. Uma ideia consiste em adicionar uma variedade de potenciais características para encontrar as mais úteis. Por exemplo, e se nós tentássemos: $y=w_0x_0 + w_1x_1^2 + w_2x_2^3+b$ ? \n",
    "\n",
    "Rodando as células abaixo"
   ]
  },
  {
   "cell_type": "code",
   "execution_count": 9,
   "id": "209cedd7",
   "metadata": {
    "pycharm": {
     "name": "#%%\n"
    }
   },
   "outputs": [],
   "source": [
    "# Criando os dados\n",
    "x = np.arange(0, 20, 1)\n",
    "y = x**2\n",
    "\n",
    "# potenciais características:\n",
    "X = np.c_[x, x**2, x**3]  # a função c_ faz a concatenação.\n"
   ]
  },
  {
   "cell_type": "code",
   "execution_count": 10,
   "id": "7af6c38f",
   "metadata": {},
   "outputs": [
    {
     "name": "stdout",
     "output_type": "stream",
     "text": [
      "Iteração    0: Custo  1140.29   \n",
      "Iteração 1000: Custo   328.54   \n",
      "Iteração 2000: Custo   280.44   \n",
      "Iteração 3000: Custo   239.39   \n",
      "Iteração 4000: Custo   204.34   \n",
      "Iteração 5000: Custo   174.43   \n",
      "Iteração 6000: Custo   148.90   \n",
      "Iteração 7000: Custo   127.10   \n",
      "Iteração 8000: Custo   108.49   \n",
      "Iteração 9000: Custo    92.61   \n",
      "b,w encontrados pelo método do gradiente: 0.01,[0.082 0.536 0.028] \n"
     ]
    },
    {
     "data": {
      "image/png": "[encoded data removed]",
      "text/plain": [
       "<Figure size 432x288 with 1 Axes>"
      ]
     },
     "metadata": {
      "needs_background": "light"
     },
     "output_type": "display_data"
    }
   ],
   "source": [
    "# inicializando parâmetros\n",
    "m,n       = X.shape\n",
    "initial_w = np.zeros((n,))\n",
    "initial_b = 0\n",
    "# parâmetros para rodar o Método do Gradiente:\n",
    "iterations = 10000\n",
    "alpha      = 0.0000001 # Veja que foi necessário reduzir o alpha ainda mais\n",
    "# Rodando o Método do gradiente \n",
    "\n",
    "w_final, b_final, J_hist = metodo_do_gradiente(X, y, initial_w, initial_b,\n",
    "                                                    calcula_custo, calcula_gradiente, \n",
    "                                                    alpha, iterations)\n",
    "print(f\"b,w encontrados pelo método do gradiente: {b_final:0.2f},{w_final} \")\n",
    "\n",
    "# Plotando os resultados\n",
    "plt.scatter(x, y, marker='x', c='r', label=\"Value Verdadeiro\"); plt.title(\"Com características x, x**2, x**3\")\n",
    "plt.plot(x,X@w_final + b_final, label=\"Valor estimado\");  plt.xlabel(\"X\"); plt.ylabel(\"y\"); plt.legend(); plt.show()"
   ]
  },
  {
   "cell_type": "markdown",
   "id": "47c707ea",
   "metadata": {
    "pycharm": {
     "name": "#%% md\n"
    }
   },
   "source": [
    "Note o valor de $\\mathbf{w}$, `[0.08 0.54 0.03]` e b é `0.01`.Isso implica que o modelo após o treinamento é :\n",
    "$$ 0.08x + 0.54x^2 + 0.03x^3 + 0.01 $$\n",
    "O Método do Gradiente enfatizou que os dados são melhor explicados pelo termo $x^2$, aumentando o valor de $w_1$ em relação aos outros parâmetros.  \n",
    "> O Método do Gradiente está escolhendo as características 'corretas' para nós enfatizando o parâmetro associado.\n",
    "\n",
    "Vamos revisar as ideiais principais:\n",
    "- O valor menor para um parâmetro implica que esse parâmetro é menos importante. No caso extremo, quando o peso do parâmetro é zero ou muito próximo de zero, a característica associada é inútil para modelar os dados.\n",
    "- Acima, após o treinamento, o peso associado com a característica $x^2$ foi muito maior que os pesos associados para $x$ ou $x^3$ uma vez que essa característica é a mais útil para explicar o comportamento dos dados"
   ]
  },
  {
   "cell_type": "markdown",
   "id": "d7fca5cb",
   "metadata": {
    "pycharm": {
     "name": "#%% md\n"
    }
   },
   "source": [
    "### Escalonamento de Características\n",
    "\n",
    "Conforme descrito no último código, se os dados têm características com diferentes ordens de grandeza, é recomendável aplicar o escalonamento de características para tornar o processo de treinamento mais rápido. No exemplo acima, tem-se os termos $x$, $x^2$ e $x^3$, que naturalmente possuem escalas bastante diferentes. Vamos então aplicar a normalização Z-Score"
   ]
  },
  {
   "cell_type": "code",
   "execution_count": 11,
   "id": "8cbf87b0",
   "metadata": {
    "pycharm": {
     "name": "#%%\n"
    }
   },
   "outputs": [
    {
     "name": "stdout",
     "output_type": "stream",
     "text": [
      "Intervalo pico a pico por característica/coluna nos dados originais  :[  19  361 6859]\n",
      "(20, 3)\n",
      "Intervalo pico a pico por característica/coluna nos dados escalonados:[3.295 3.181 3.283]\n"
     ]
    }
   ],
   "source": [
    "# Criando os dados alvo\n",
    "x = np.arange(0,20,1)\n",
    "y = x**2\n",
    "\n",
    "X = np.c_[x, x**2, x**3] # c_ concatena os dados\n",
    "print(f\"Intervalo pico a pico por característica/coluna nos dados originais  :{np.ptp(X,axis=0)}\")   \n",
    "\n",
    "\n",
    "# Fazendo normalização Z-Score\n",
    "X, X_mu, X_sigma = normalizacao_zscore(X)     \n",
    "print(X.shape)\n",
    "print(f\"Intervalo pico a pico por característica/coluna nos dados escalonados:{np.ptp(X,axis=0)}\")"
   ]
  },
  {
   "cell_type": "code",
   "execution_count": 12,
   "id": "039840db",
   "metadata": {},
   "outputs": [
    {
     "name": "stdout",
     "output_type": "stream",
     "text": [
      "Iteração    0: Custo  3852.70   \n",
      "Iteração 1000: Custo     2.48   \n",
      "Iteração 2000: Custo     1.12   \n",
      "Iteração 3000: Custo     0.51   \n",
      "Iteração 4000: Custo     0.23   \n",
      "Iteração 5000: Custo     0.10   \n",
      "Iteração 6000: Custo     0.05   \n",
      "Iteração 7000: Custo     0.02   \n",
      "Iteração 8000: Custo     0.01   \n",
      "Iteração 9000: Custo     0.00   \n",
      "b,w encontrados pelo método do gradiente: 123.50,[  0.546 112.103   0.875] \n"
     ]
    },
    {
     "data": {
      "image/png": "[encoded data removed]",
      "text/plain": [
       "<Figure size 432x288 with 1 Axes>"
      ]
     },
     "metadata": {
      "needs_background": "light"
     },
     "output_type": "display_data"
    }
   ],
   "source": [
    "# inicializando parâmetros\n",
    "m,n       = X.shape\n",
    "initial_w = np.zeros((n,))\n",
    "initial_b = 0\n",
    "# parâmetros para rodar o Método do Gradiente:\n",
    "iterations = 10000\n",
    "alpha      = 0.3\n",
    "# Rodando o Método do gradiente \n",
    "\n",
    "w_final, b_final, J_hist = metodo_do_gradiente(X, y, initial_w, initial_b,\n",
    "                                                    calcula_custo, calcula_gradiente, \n",
    "                                                    alpha, iterations)\n",
    "print(f\"b,w encontrados pelo método do gradiente: {b_final:0.2f},{w_final} \")\n",
    "\n",
    "# Plotando os resultados\n",
    "plt.scatter(x, y, marker='x', c='r', label=\"Value Verdadeiro\"); plt.title(\"Com características x, x**2, x**3\")\n",
    "plt.plot(x,X@w_final + b_final, label=\"Valor estimado\");  plt.xlabel(\"X\"); plt.ylabel(\"y\"); plt.legend(); plt.show()"
   ]
  },
  {
   "cell_type": "markdown",
   "id": "f557683b",
   "metadata": {
    "pycharm": {
     "name": "#%% md\n"
    }
   },
   "source": [
    "Novamente, após o treinamento, o peso associado com a característica $x^2$ é muito maior em comparação com os pesos associados com $x$ e $x^3$."
   ]
  },
  {
   "cell_type": "markdown",
   "id": "04223fd8",
   "metadata": {
    "pycharm": {
     "name": "#%% md\n"
    }
   },
   "source": [
    "### Funções complexas\n",
    "\n",
    "Com a engenharia de características, até mesmo funções complexas podem ser modeladas:"
   ]
  },
  {
   "cell_type": "code",
   "execution_count": 13,
   "id": "2d564ad4",
   "metadata": {
    "pycharm": {
     "name": "#%%\n"
    }
   },
   "outputs": [
    {
     "name": "stdout",
     "output_type": "stream",
     "text": [
      "Iteração    0: Custo     0.22   \n",
      "Iteração 50000: Custo     0.03   \n",
      "Iteração 100000: Custo     0.02   \n",
      "Iteração 150000: Custo     0.02   \n",
      "Iteração 200000: Custo     0.02   \n",
      "Iteração 250000: Custo     0.02   \n",
      "Iteração 300000: Custo     0.02   \n",
      "Iteração 350000: Custo     0.02   \n",
      "Iteração 400000: Custo     0.02   \n",
      "Iteração 450000: Custo     0.02   \n",
      "b,w encontrados pelo método do gradiente: -0.01,[-2.710e+00 -3.607e+00  2.027e+01 -1.468e+00 -1.734e+01 -1.099e+01\n",
      "  1.549e+01  3.316e-02 -7.672e-04  4.069e-02  7.172e-02 -4.192e-02\n",
      "  6.058e-02] \n"
     ]
    },
    {
     "data": {
      "image/png": "[encoded data removed]",
      "text/plain": [
       "<Figure size 432x288 with 1 Axes>"
      ]
     },
     "metadata": {
      "needs_background": "light"
     },
     "output_type": "display_data"
    }
   ],
   "source": [
    "x = np.arange(0,20,1)\n",
    "y = np.cos(x/2)\n",
    "\n",
    "X = np.c_[x, x**2, x**3,x**4, x**5, x**6, x**7, x**8, x**9, x**10, x**11, x**12, x**13]\n",
    "X, X_mu, X_sigma = normalizacao_zscore(X)     \n",
    "\n",
    "# inicializando parâmetros\n",
    "m,n       = X.shape\n",
    "initial_w = np.zeros((n,))\n",
    "initial_b = 0\n",
    "# parâmetros para rodar o Método do Gradiente:\n",
    "iterations = 500000\n",
    "alpha      = 0.1 # Veja que foi necessário reduzir o alpha ainda mais\n",
    "# Rodando o Método do gradiente \n",
    "\n",
    "w_final, b_final, J_hist = metodo_do_gradiente(X, y, initial_w, initial_b,\n",
    "                                                    calcula_custo, calcula_gradiente, \n",
    "                                                    alpha, iterations)\n",
    "print(f\"b,w encontrados pelo método do gradiente: {b_final:0.2f},{w_final} \")\n",
    "\n",
    "# Plotando os resultados\n",
    "plt.scatter(x, y, marker='x', c='r', label=\"Value Verdadeiro\"); plt.title(\"Com características x, x**2, x**3\")\n",
    "plt.plot(x,X@w_final + b_final, label=\"Valor estimado\");  plt.xlabel(\"X\"); plt.ylabel(\"y\"); plt.legend(); plt.show()\n"
   ]
  },
  {
   "cell_type": "markdown",
   "id": "e64ac44f",
   "metadata": {
    "pycharm": {
     "name": "#%% md\n"
    }
   },
   "source": [
    "\n",
    "## Parabéns!\n",
    "Com este código, você:\n",
    "- aprendeu como a regressão linear é capaz de modelar funções complexas, até mesmo funções altamente não lineares usando engenharia de características\n",
    "- reconheceu que é importante aplicar escalonamento de características ao fazer engenharia de características"
   ]
  },
  {
   "cell_type": "code",
   "execution_count": 11,
   "id": "e6acc4f5",
   "metadata": {
    "pycharm": {
     "name": "#%%\n"
    }
   },
   "outputs": [],
   "source": []
  }
 ],
 "metadata": {
  "kernelspec": {
   "display_name": "Python 3 (ipykernel)",
   "language": "python",
   "name": "python3"
  },
  "language_info": {
   "codemirror_mode": {
    "name": "ipython",
    "version": 3
   },
   "file_extension": ".py",
   "mimetype": "text/x-python",
   "name": "python",
   "nbconvert_exporter": "python",
   "pygments_lexer": "ipython3",
   "version": "3.9.12"
  },
  "toc-autonumbering": false
 },
 "nbformat": 4,
 "nbformat_minor": 5
}
