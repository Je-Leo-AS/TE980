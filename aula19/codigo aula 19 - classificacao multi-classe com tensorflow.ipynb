{
 "cells": [
  {
   "cell_type": "markdown",
   "metadata": {
    "tags": []
   },
   "source": [
    "# Classificação multi-classe com tensorflow\n",
    "\n",
    "\n",
    "Nessa atividade de programação, exploraremos a função Softmax.\n",
    "Essa função é usada tanto na Regressão Softmax como também em redes neurais para resolver problemas de classificação onde temos múltiplas classes.\n",
    "\n",
    "\n",
    "  "
   ]
  },
  {
   "cell_type": "code",
   "execution_count": 1,
   "metadata": {},
   "outputs": [],
   "source": [
    "import numpy as np\n",
    "import matplotlib.pyplot as plt\n",
    "import tensorflow as tf\n",
    "from tensorflow.keras.models import Sequential\n",
    "from tensorflow.keras.layers import Dense\n",
    "from IPython.display import display, Markdown, Latex\n",
    "from sklearn.datasets import make_blobs\n",
    "\n",
    "import logging\n",
    "logging.getLogger(\"tensorflow\").setLevel(logging.ERROR)\n",
    "tf.autograph.set_verbosity(0)"
   ]
  },
  {
   "cell_type": "markdown",
   "metadata": {},
   "source": [
    "> **OBS**: Normalmente, nos nossos notebooks, nós usamos a convenção de começar a contagem de índices em 0 e terminar em $N-1$, enquanto que nos slides da disciplina a contagem se inicia em 1 e termina em $N$. No presente notebook, usaremos a mesma notação que está nos slides para facilitar a compreensão.\n"
   ]
  },
  {
   "cell_type": "markdown",
   "metadata": {
    "tags": []
   },
   "source": [
    "## A função Softmax\n",
    "\n",
    "Tanto na Regressão Softmax como nas redes neurais com saídas softmax, $N$ saídas são geradas e uma é selecionada como a categoria (classe) prevista. Em ambos os casos, um vetor $\\mathbf{z}$, gerado por uma função linear, é aplicado à função Softmax. A função softmax converte $\\mathbf{z}$ em uma distribuição de probabilidade conforme descrito abaixo. Após aplicar softmax, cada saída estará entre 0 e 1 e as saídas somam 1, tal que essas saídas podem ser interpretadas como sendo probabilidades. Quanto maior forem as entradas, maiores são as probabilidades de saída."
   ]
  },
  {
   "cell_type": "markdown",
   "metadata": {},
   "source": [
    "A função Softmax pode ser escrita como sendo:\n",
    "$$a_j = \\frac{e^{z_j}}{ \\sum_{k=1}^{N}{e^{z_k} }} \\tag{1}$$\n",
    "\n",
    "A saída $\\mathbf{a}$ é um vetor de tamanho $N$, e pode ser interpretada da seguinte forma:\n",
    "\\begin{align}\n",
    "\\mathbf{a}(x) =\n",
    "\\begin{bmatrix}\n",
    "P(y = 1 | \\mathbf{x}; \\mathbf{w},b) \\\\\n",
    "\\vdots \\\\\n",
    "P(y = N | \\mathbf{x}; \\mathbf{w},b)\n",
    "\\end{bmatrix}\n",
    "=\n",
    "\\frac{1}{ \\sum_{k=1}^{N}{e^{z_k} }}\n",
    "\\begin{bmatrix}\n",
    "e^{z_1} \\\\\n",
    "\\vdots \\\\\n",
    "e^{z_{N}} \\\\\n",
    "\\end{bmatrix} \\tag{2}\n",
    "\\end{align}\n"
   ]
  },
  {
   "cell_type": "markdown",
   "metadata": {},
   "source": [
    "Isso mostra que as saídas são um vetor contendo probabilidades. A primeira saída (primeiro elemento do vetor) é a probabilidade de ser a primeira categoria dado o vetor de características de entrada $\\mathbf{x}$ e parâmetros $\\mathbf{w}$ e $\\mathbf{b}$.  \n",
    "\n",
    "Abaixo nós criamos nossa própria implementação NumPy da função Softmax:"
   ]
  },
  {
   "cell_type": "code",
   "execution_count": 2,
   "metadata": {},
   "outputs": [],
   "source": [
    "def minha_softmax(z):\n",
    "    ez = np.exp(z)              # exponencial elemento a elemento\n",
    "    sm = ez/np.sum(ez)\n",
    "    return(sm)"
   ]
  },
  {
   "cell_type": "markdown",
   "metadata": {},
   "source": [
    "Supondo um problema com $N=4$ classes, use o código abaixo para testar e verificar as saídas da função softmax ($a_1$,$a_2$,$a_3$,$a_4$) para diferentes combinações de valores de entrada ($z_1$,$z_2$,$z_3$,$z_4$)"
   ]
  },
  {
   "cell_type": "code",
   "execution_count": 3,
   "metadata": {},
   "outputs": [
    {
     "data": {
      "image/png": "[encoded data removed]",
      "text/plain": [
       "<Figure size 576x288 with 2 Axes>"
      ]
     },
     "metadata": {
      "needs_background": "light"
     },
     "output_type": "display_data"
    },
    {
     "name": "stdout",
     "output_type": "stream",
     "text": [
      "Soma das saídas softmax (a1+a2+a3+a4): 1.0\n"
     ]
    }
   ],
   "source": [
    "z4 = 1\n",
    "z3 = 2\n",
    "z2 = 3\n",
    "z1 = 4\n",
    "\n",
    "plt.close(\"all\")\n",
    "\n",
    "fig, ax = plt.subplots(1,2,figsize=(8,4))\n",
    "\n",
    "z       = np.array([z1,z2,z3,z4])\n",
    "z_nomes = np.array(['z1','z2','z3','z4'])\n",
    "bar     = ax[0].barh(z_nomes, height=0.6, width=z, left=None, align='center')\n",
    "ax[0].set_title(\"z: Entrada para a função Softmax\")\n",
    "\n",
    "a       = minha_softmax(z)\n",
    "a_nomes = np.array(['a1','a2','a3','a4'])\n",
    "sbar    = ax[1].barh(a_nomes, height=0.6, width=a, left=None, align='center',color='red')\n",
    "ax[1].set_xlim([0,1])\n",
    "ax[1].set_title(\"a = softmax(z)\")\n",
    "\n",
    "plt.show()\n",
    "\n",
    "print(f'Soma das saídas softmax (a1+a2+a3+a4): {np.sum(a)}')"
   ]
  },
  {
   "cell_type": "markdown",
   "metadata": {},
   "source": [
    "Conforme você varia os valores de z acima, algumas observações são importantes:\n",
    "* os valores de saída (probabilidades) sempre somam 1\n",
    "* a função softmax altera todas as saídas simultaneamente. Por exemplo, uma mudança em `z1` não altera apenas `a1`, mas também `a2`,`a3`,`a4`. Isso não ocorre quando usamos outras funções de ativação conhecidas, tais como ReLU ou sigmoide, que esbelecem relações do tipo uma-entrada-uma-saída."
   ]
  },
  {
   "cell_type": "markdown",
   "metadata": {
    "tags": []
   },
   "source": [
    "## Função Custo"
   ]
  },
  {
   "cell_type": "markdown",
   "metadata": {},
   "source": [
    "A função perda associada ao uso da função Softmax é a função de entropia cruzada para $N$ classes, isto é: \n",
    "\n",
    "\\begin{equation}\n",
    "  L(\\mathbf{a},y)=\\begin{cases}\n",
    "    -log(a_1), & \\text{se $y=1$}.\\\\\n",
    "        &\\vdots\\\\\n",
    "     -log(a_N), & \\text{se $y=N$}\n",
    "  \\end{cases} \\tag{3}\n",
    "\\end{equation}\n",
    "\n",
    "onde $y$ é a categoria alvo para esse exemplo e $\\mathbf{a}$ é a saída da função Softmax. Mais especificamente, Os valores em $\\mathbf{a}$ são as probabilidades que somam 1. \n",
    "\n",
    "\n",
    ">**Lembre-se:** A Perda se refere apenas a uma amostra, enquanto que o *custo* leva em conta todas as amostras.\n",
    " \n",
    " \n",
    "Note que na equação (3) acima, apenas a linha que corresponde ao alvo contribui para a perda, enquanto as demais linhas são ignoradas. Para escrever o custo nós precisamos de uma 'função indicadora' que será 1 quando o índice coincide com o alvo e zero caso contrário:\n",
    "    $$1\\{y == n\\} =\\begin{cases}\n",
    "    1, & \\text{se $y==n$}.\\\\\n",
    "    0, & \\text{caso contrário}.\n",
    "  \\end{cases}$$\n",
    "  \n",
    "Com essa definição, a função custo pode ser agora escrita conforme abaixo: \n",
    "\\begin{align}\n",
    "J(\\mathbf{w},b) = -\\frac{1}{m} \\left[ \\sum_{i=1}^{m} \\sum_{j=1}^{N}  1\\left\\{y^{(i)} == j\\right\\} \\log \\frac{e^{z^{(i)}_j}}{\\sum_{k=1}^N e^{z^{(i)}_k} }\\right] \\tag{4}\n",
    "\\end{align}\n",
    "\n",
    "onde $m$ é o número de amostras, $N$ é o número de saídas (classes). Note que a função custo nada mais é que a média das perdas."
   ]
  },
  {
   "cell_type": "markdown",
   "metadata": {},
   "source": [
    "## Tensorflow"
   ]
  },
  {
   "cell_type": "code",
   "execution_count": 4,
   "metadata": {
    "tags": []
   },
   "outputs": [
    {
     "data": {
      "image/png": "[encoded data removed]",
      "text/plain": [
       "<Figure size 576x216 with 1 Axes>"
      ]
     },
     "metadata": {
      "needs_background": "light"
     },
     "output_type": "display_data"
    }
   ],
   "source": [
    "# Criando conjunto de dados e plotando\n",
    "centros          = [[-5, 2], [-2, -2], [1, 2], [5, -2]] # Assim teremos 2 características e 4 classes (classes 0,1,2,3)\n",
    "X_train, y_train = make_blobs(n_samples=2000, centers=centros, cluster_std=1.0,random_state=30)\n",
    "\n",
    "classe0  = y_train == 0\n",
    "classe1  = y_train == 1\n",
    "classe2  = y_train == 2\n",
    "classe3  = y_train == 3\n",
    "\n",
    "fig,ax = plt.subplots(1,1,figsize=(8,3))\n",
    "ax.scatter(X_train[classe0,0], X_train[classe0,1], marker='x', s=80, c = 'red', label=\"y=0\")\n",
    "ax.scatter(X_train[classe1,0], X_train[classe1,1], marker='o', s=80, label=\"y=1\", facecolors='none', edgecolors='b',lw=1)\n",
    "ax.scatter(X_train[classe2,0], X_train[classe2,1], marker='^', s=80, label=\"y=2\", facecolors='none', edgecolors='orange',lw=1)\n",
    "ax.scatter(X_train[classe3,0], X_train[classe3,1], marker='s', s=80, label=\"y=3\", facecolors='none', edgecolors='m',lw=1)\n",
    "ax.set_ylabel('$x_1$', fontsize=12)\n",
    "ax.set_xlabel('$x_0$', fontsize=12)\n",
    "ax.set_title('Problema de classificação com 2 características e 4 classes')\n",
    "ax.legend()\n",
    "plt.tight_layout()\n",
    "plt.show()"
   ]
  },
  {
   "cell_type": "markdown",
   "metadata": {},
   "source": [
    "### Implementação intuitiva"
   ]
  },
  {
   "cell_type": "markdown",
   "metadata": {},
   "source": [
    "O modelo abaixo é implementado com a função softmax funcionando como uma ativação na camada Dense final.\n",
    "A função perda é especificada separadamente por meio do comando `compile`.\n",
    "\n",
    "A função perda é a função de entropia cruzada, denominada `SparseCategoricalCrossentropy`. Ela implementa a equação (3) acima. \n",
    "A função perda recebe as saídas da função softmax (vetor de probabilidades para cada classe) e computa a perda associada."
   ]
  },
  {
   "cell_type": "code",
   "execution_count": 5,
   "metadata": {
    "scrolled": true,
    "tags": []
   },
   "outputs": [
    {
     "name": "stdout",
     "output_type": "stream",
     "text": [
      "Epoch 1/10\n",
      "63/63 [==============================] - 1s 1ms/step - loss: 0.9758\n",
      "Epoch 2/10\n",
      "63/63 [==============================] - 0s 1ms/step - loss: 0.3772\n",
      "Epoch 3/10\n",
      "63/63 [==============================] - 0s 1ms/step - loss: 0.1521\n",
      "Epoch 4/10\n",
      "63/63 [==============================] - 0s 1ms/step - loss: 0.0923\n",
      "Epoch 5/10\n",
      "63/63 [==============================] - 0s 1ms/step - loss: 0.0710\n",
      "Epoch 6/10\n",
      "63/63 [==============================] - 0s 1ms/step - loss: 0.0601\n",
      "Epoch 7/10\n",
      "63/63 [==============================] - 0s 1ms/step - loss: 0.0531\n",
      "Epoch 8/10\n",
      "63/63 [==============================] - 0s 1ms/step - loss: 0.0480\n",
      "Epoch 9/10\n",
      "63/63 [==============================] - 0s 1ms/step - loss: 0.0438\n",
      "Epoch 10/10\n",
      "63/63 [==============================] - 0s 1ms/step - loss: 0.0409\n"
     ]
    },
    {
     "data": {
      "text/plain": [
       "<keras.callbacks.History at 0x18544bb5fd0>"
      ]
     },
     "execution_count": 5,
     "metadata": {},
     "output_type": "execute_result"
    }
   ],
   "source": [
    "modelo = Sequential(\n",
    "    [ \n",
    "        Dense(25, activation = 'relu'),\n",
    "        Dense(15, activation = 'relu'),\n",
    "        Dense(4, activation = 'softmax')    # < Note a função de ativação softmax aqui\n",
    "    ]\n",
    ")\n",
    "modelo.compile(\n",
    "    loss=tf.keras.losses.SparseCategoricalCrossentropy(),\n",
    "    optimizer=tf.keras.optimizers.Adam(0.001),\n",
    ")\n",
    "\n",
    "modelo.fit(\n",
    "    X_train,y_train,\n",
    "    epochs=10\n",
    ")\n",
    "        "
   ]
  },
  {
   "cell_type": "markdown",
   "metadata": {},
   "source": [
    "Uma vez que a função softmax encontra-se integrada à camada de saída, sua saída já é o vetor de probabilidades (números entre 0 e 1), conforme mostrado abaixo. Note que temos quatro probabilidades para cada exemplo de treinamento em X_train. Esses quatro valores denotam a probabilidade da respostiva amostra pertencer a cada uma das quatro classes ($y=0,1,2,3$)"
   ]
  },
  {
   "cell_type": "code",
   "execution_count": 6,
   "metadata": {},
   "outputs": [
    {
     "name": "stdout",
     "output_type": "stream",
     "text": [
      "1/1 [==============================] - 0s 76ms/step\n",
      "[[0.00955087 0.9872722  0.0014313  0.00174566]]\n"
     ]
    }
   ],
   "source": [
    "i = 3\n",
    "probabilidades = modelo.predict(X_train[i,:].reshape(1,-1)) # calcula a saída da rede neural para o exemplo de treinamento i\n",
    "print(probabilidades)"
   ]
  },
  {
   "cell_type": "markdown",
   "metadata": {},
   "source": [
    "Note que as saídas do nosso modelo são de fato valores entre 0 e 1 (probabilidades). Para retornar um valor inteiro representando a classe prevista, basta você verificar o índice (posição) com a maior probabilidade. Isso pode ser obtido com a função Numpy [argmax](https://numpy.org/doc/stable/reference/generated/numpy.argmax.html) function."
   ]
  },
  {
   "cell_type": "code",
   "execution_count": 7,
   "metadata": {},
   "outputs": [
    {
     "name": "stdout",
     "output_type": "stream",
     "text": [
      "np.argmax(probabilidades) = classe estimada: 1\n",
      "classe verdadeira: 1\n"
     ]
    }
   ],
   "source": [
    "yhat = np.argmax(probabilidades)\n",
    "\n",
    "print(f\"np.argmax(probabilidades) = classe estimada: {yhat}\")\n",
    "print(f\"classe verdadeira: {y_train[i]}\")"
   ]
  },
  {
   "cell_type": "markdown",
   "metadata": {},
   "source": [
    "Seguindo as ideias acima, abaixo nós calculamos a taxa de acerto levando em conta todas as amostras do nosso conjunto de dados."
   ]
  },
  {
   "cell_type": "code",
   "execution_count": 8,
   "metadata": {},
   "outputs": [
    {
     "name": "stdout",
     "output_type": "stream",
     "text": [
      "63/63 [==============================] - 0s 801us/step\n",
      "maior probabilidade: 0.9999981      menor probabilidade: 7.4426723e-09\n",
      "taxa de acerto (%): 98.85\n"
     ]
    }
   ],
   "source": [
    "Probabilidades = modelo.predict(X_train) # calcula a saída da rede neural para o exemplo de treinamento i\n",
    "\n",
    "print(\"maior probabilidade:\", np.max(Probabilidades), \"     menor probabilidade:\", np.min(Probabilidades))\n",
    "\n",
    "Yhat        = np.argmax(Probabilidades,axis=1)\n",
    "taxa_acerto = np.mean((Yhat==y_train)*100)\n",
    "print(f\"taxa de acerto (%): {taxa_acerto}\")"
   ]
  },
  {
   "cell_type": "markdown",
   "metadata": {},
   "source": [
    "### ### Implementação mais robusta numericamente\n",
    "\n",
    "Com base na parte teórica da aula, lembre-se que resultados mais precisos podem ser obtidos se a ativação softmax é integrada, durante o processo de treinamento, diretamente junto ao cálculo da perda.\n",
    "\n",
    "Nessa implementação mais robusta numericamente, a camada final da nossa rede possui uma ativação linear (equivale a não ter ativação, já que $g(z)=z$). A função custo tem um argumento adicional: `from_logits = True`. Isso informa a função custo que a função softmax deve ser incluída no cálculo da perda. Isso otimiza, sob o ponto de vista de estabilidade numérica, a nossa implementação."
   ]
  },
  {
   "cell_type": "code",
   "execution_count": 9,
   "metadata": {
    "scrolled": true,
    "tags": []
   },
   "outputs": [
    {
     "name": "stdout",
     "output_type": "stream",
     "text": [
      "Epoch 1/10\n",
      "63/63 [==============================] - 0s 1ms/step - loss: 1.7212\n",
      "Epoch 2/10\n",
      "63/63 [==============================] - 0s 1ms/step - loss: 0.8771\n",
      "Epoch 3/10\n",
      "63/63 [==============================] - 0s 1ms/step - loss: 0.4513\n",
      "Epoch 4/10\n",
      "63/63 [==============================] - 0s 1ms/step - loss: 0.2355\n",
      "Epoch 5/10\n",
      "63/63 [==============================] - 0s 1ms/step - loss: 0.1353\n",
      "Epoch 6/10\n",
      "63/63 [==============================] - 0s 1ms/step - loss: 0.0965\n",
      "Epoch 7/10\n",
      "63/63 [==============================] - 0s 1ms/step - loss: 0.0787\n",
      "Epoch 8/10\n",
      "63/63 [==============================] - 0s 1ms/step - loss: 0.0684\n",
      "Epoch 9/10\n",
      "63/63 [==============================] - 0s 1ms/step - loss: 0.0620\n",
      "Epoch 10/10\n",
      "63/63 [==============================] - 0s 1ms/step - loss: 0.0568\n"
     ]
    },
    {
     "data": {
      "text/plain": [
       "<keras.callbacks.History at 0x18545e37ee0>"
      ]
     },
     "execution_count": 9,
     "metadata": {},
     "output_type": "execute_result"
    }
   ],
   "source": [
    "modelo_robusto = Sequential(\n",
    "    [ \n",
    "        Dense(25, activation = 'relu'),\n",
    "        Dense(15, activation = 'relu'),\n",
    "        Dense(4, activation = 'linear')   #<-- Observe aqui\n",
    "    ]\n",
    ")\n",
    "modelo_robusto.compile(\n",
    "    loss=tf.keras.losses.SparseCategoricalCrossentropy(from_logits=True),  #<-- Observe aqui\n",
    "    optimizer=tf.keras.optimizers.Adam(0.001),\n",
    ")\n",
    "\n",
    "modelo_robusto.fit(\n",
    "    X_train,y_train,\n",
    "    epochs=10\n",
    ")\n",
    "        "
   ]
  },
  {
   "cell_type": "markdown",
   "metadata": {},
   "source": [
    "#### Lidando com as saídas do modelo obtido pela impementação mais robusta\n",
    "\n",
    "Note que no modelo robusto, as saídas não são probabilidades, mas um conjunto de números que varia num grande intervalo de valores possíveis. \n",
    "As saídas precisam agora passar pela função softmax ao fazermos uma previsão. \n",
    "\n",
    "Vamos observar primeira a saída atual do modelo (sem passar pela função softmax)."
   ]
  },
  {
   "cell_type": "code",
   "execution_count": 10,
   "metadata": {},
   "outputs": [
    {
     "name": "stdout",
     "output_type": "stream",
     "text": [
      "63/63 [==============================] - 0s 910us/step\n",
      "maior saída: 11.773787      menor saída: -10.508876\n"
     ]
    }
   ],
   "source": [
    "Saidas = modelo_robusto.predict(X_train) # calcula a saída da rede neural para o exemplo de treinamento i\n",
    "\n",
    "print(\"maior saída:\", np.max(Saidas), \"     menor saída:\", np.min(Saidas))"
   ]
  },
  {
   "cell_type": "markdown",
   "metadata": {},
   "source": [
    "As previsões atuais não são probabilidades! Se queremos as probabilidades correspondentes, podemos passar esses valores atuais pela função [softmax](https://www.tensorflow.org/api_docs/python/tf/nn/softmax)."
   ]
  },
  {
   "cell_type": "code",
   "execution_count": 11,
   "metadata": {},
   "outputs": [
    {
     "name": "stdout",
     "output_type": "stream",
     "text": [
      "maior probabilidade: 0.99999297      menor probabilidade: 1.0961273e-09\n",
      "taxa de acerto (%): 98.45\n"
     ]
    }
   ],
   "source": [
    "Probabilidades = tf.nn.softmax(Saidas).numpy()\n",
    "\n",
    "print(\"maior probabilidade:\", np.max(Probabilidades), \"     menor probabilidade:\", np.min(Probabilidades))\n",
    "\n",
    "Yhat        = np.argmax(Probabilidades,axis=1)\n",
    "taxa_acerto = np.mean((Yhat==y_train)*100)\n",
    "print(f\"taxa de acerto (%): {taxa_acerto}\")"
   ]
  },
  {
   "cell_type": "markdown",
   "metadata": {},
   "source": [
    "Para selecionar a categoria mais provável, na verdade nem precisaríamos usar a função softmax. Basta usar diretamente a função [np.argmax()](https://numpy.org/doc/stable/reference/generated/numpy.argmax.html)."
   ]
  },
  {
   "cell_type": "code",
   "execution_count": 12,
   "metadata": {},
   "outputs": [
    {
     "name": "stdout",
     "output_type": "stream",
     "text": [
      "[-0.94360536 -1.6989329   3.2797263  -0.06834008], classe estimada: 2, classe verdadeira: 2\n",
      "[ 5.977715   1.2577229 -1.2412239 -5.253915 ], classe estimada: 0, classe verdadeira: 0\n",
      "[ 4.573666   1.3588094 -0.9907473 -4.0630603], classe estimada: 0, classe verdadeira: 0\n",
      "[ 0.17815612  4.1683087  -1.168316   -0.1533138 ], classe estimada: 1, classe verdadeira: 1\n",
      "[ 1.6184492 -3.2565207  6.287056  -3.4154406], classe estimada: 2, classe verdadeira: 2\n"
     ]
    }
   ],
   "source": [
    "for i in range(5):\n",
    "    print( f\"{Saidas[i]}, classe estimada: {np.argmax(Saidas[i])}, classe verdadeira: {y_train[i]}\")"
   ]
  },
  {
   "cell_type": "markdown",
   "metadata": {},
   "source": [
    "## Quando usar 'SparseCategorialCrossentropy' e quando usar 'CategoricalCrossEntropy'?\n",
    "\n",
    "O Tensorflow permite que você entre com dois possíveis tipos de formatação para os valores alvo e a seleção da função de perda define qual formatação está sendo esperada. \n",
    "- SparseCategorialCrossentropy: Espera que o valor alvo para uma amostra seja um valor inteiro correspondente ao índice. Exemplo: temos 10 possíveis categorias, sendo $y = $ 0, 1, 2, 3, 4, 5, 6, 7, 8, 9.\n",
    "- CategoricalCrossEntropy: Espera que o valor alvo para uma amostra esteja codificado na forma `one-hot bit`, onde o índice alvo é 1 enquanto os demais valores são nulos. Por exemplo, quando há 10 categorias e y para a terceira categoria é $[0,0,1,0,0,0,0,0,0,0]$ "
   ]
  },
  {
   "cell_type": "markdown",
   "metadata": {},
   "source": [
    "## Parabéns!\n",
    "\n",
    "Com essa atividade, você \n",
    "- Tornou-se mais familiar com a função softmax e seu uso como função de ativação na última camada de redes neurais.\n",
    "- Aprendeu a implementação mais robusta numericamente em Tensorflow:\n",
    "    - Usar ativação linear na última camada\n",
    "    - Usar SparseCategoricalCrossentropy como função perda\n",
    "    - Usar from_logits=True como parâmetro da função perda\n"
   ]
  },
  {
   "cell_type": "code",
   "execution_count": null,
   "metadata": {},
   "outputs": [],
   "source": []
  },
  {
   "cell_type": "code",
   "execution_count": null,
   "metadata": {},
   "outputs": [],
   "source": []
  }
 ],
 "metadata": {
  "kernelspec": {
   "display_name": "Python 3 (ipykernel)",
   "language": "python",
   "name": "python3"
  },
  "language_info": {
   "codemirror_mode": {
    "name": "ipython",
    "version": 3
   },
   "file_extension": ".py",
   "mimetype": "text/x-python",
   "name": "python",
   "nbconvert_exporter": "python",
   "pygments_lexer": "ipython3",
   "version": "3.9.12"
  }
 },
 "nbformat": 4,
 "nbformat_minor": 4
}
