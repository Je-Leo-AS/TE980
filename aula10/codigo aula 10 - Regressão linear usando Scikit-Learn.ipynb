{
 "cells": [
  {
   "cell_type": "markdown",
   "id": "07151dc3",
   "metadata": {
    "pycharm": {
     "name": "#%% md\n"
    }
   },
   "source": [
    "# Regressão linear usando Scikit-Learn"
   ]
  },
  {
   "cell_type": "markdown",
   "id": "38cec147",
   "metadata": {
    "pycharm": {
     "name": "#%% md\n"
    }
   },
   "source": [
    "Há uma biblioteca de ferramentas open-source, e com possibilidade de uso comercial, denominada [scikit-learn](https://scikit-learn.org/stable/index.html). Essa biblioteca é vastamente utilizada no mundo e contém implementações de diversos algoritmos que iremos usar na nossa disciplina.\n",
    "\n"
   ]
  },
  {
   "cell_type": "markdown",
   "id": "7a95efc0",
   "metadata": {
    "pycharm": {
     "name": "#%% md\n"
    }
   },
   "source": [
    "## Objetivos\n",
    "\n",
    "Com este código, você irá:\n",
    "- Usar o Scikit-Learn (também chamada de SK-Learn) para implementar regressão linear usando o método do gradiente"
   ]
  },
  {
   "cell_type": "code",
   "execution_count": 1,
   "id": "2de87c7c",
   "metadata": {
    "pycharm": {
     "name": "#%%\n"
    }
   },
   "outputs": [],
   "source": [
    "import numpy as np\n",
    "import matplotlib.pyplot as plt\n",
    "from sklearn.linear_model import SGDRegressor          # Carregando ferramentas presentes na SK-learn\n",
    "from sklearn.preprocessing import StandardScaler       # Carregando ferramentas presentes na SK-learn\n",
    "np.set_printoptions(precision=2)"
   ]
  },
  {
   "cell_type": "markdown",
   "id": "32646406",
   "metadata": {
    "pycharm": {
     "name": "#%% md\n"
    }
   },
   "source": [
    "# Método do Gradiente\n",
    "\n",
    "Scikit-learn possui o seguinte modelo de regressão baseado no método do gradiente: [sklearn.linear_model.SGDRegressor](https://scikit-learn.org/stable/modules/generated/sklearn.linear_model.SGDRegressor.html#examples-using-sklearn-linear-model-sgdregressor).  \n",
    "\n",
    "Assim como em nossas implementações anteriores do método do gradiente, o modelo performa melhor normalizando-se as suas entradas. Nesse sentido, para este fim, usaremos [sklearn.preprocessing.StandardScaler](https://scikit-learn.org/stable/modules/generated/sklearn.preprocessing.StandardScaler.html#sklearn.preprocessing.StandardScaler) para realizar a normalização z-score. Aqui, a função que realiza tal normalização recebe o nome de 'standard scaler'."
   ]
  },
  {
   "cell_type": "markdown",
   "id": "2be69b25",
   "metadata": {
    "pycharm": {
     "name": "#%% md\n"
    }
   },
   "source": [
    "### Carregando o banco de dados"
   ]
  },
  {
   "cell_type": "code",
   "execution_count": 2,
   "id": "4bb046d9",
   "metadata": {
    "pycharm": {
     "name": "#%%\n"
    }
   },
   "outputs": [
    {
     "ename": "FileNotFoundError",
     "evalue": "[Errno 2] No such file or directory: 'dados_casas.txt'",
     "output_type": "error",
     "traceback": [
      "\u001b[1;31m---------------------------------------------------------------------------\u001b[0m",
      "\u001b[1;31mFileNotFoundError\u001b[0m                         Traceback (most recent call last)",
      "\u001b[1;32mc:\\Users\\leonardo.santos\\OneDrive - ufpr.br\\ERE\\2023.1\\Tópicos 2\\aula10\\codigo aula 10 - Regressão linear usando Scikit-Learn.ipynb Célula 7\u001b[0m in \u001b[0;36m1\n\u001b[1;32m----> <a href='vscode-notebook-cell:/c%3A/Users/leonardo.santos/OneDrive%20-%20ufpr.br/ERE/2023.1/T%C3%B3picos%202/aula10/codigo%20aula%2010%20-%20Regress%C3%A3o%20linear%20usando%20Scikit-Learn.ipynb#W6sZmlsZQ%3D%3D?line=0'>1</a>\u001b[0m file \u001b[39m=\u001b[39m \u001b[39mopen\u001b[39;49m(\u001b[39m'\u001b[39;49m\u001b[39mdados_casas.txt\u001b[39;49m\u001b[39m'\u001b[39;49m) \u001b[39m# As quatro primeiras colunas referem-se a características das casas.\u001b[39;00m\n\u001b[0;32m      <a href='vscode-notebook-cell:/c%3A/Users/leonardo.santos/OneDrive%20-%20ufpr.br/ERE/2023.1/T%C3%B3picos%202/aula10/codigo%20aula%2010%20-%20Regress%C3%A3o%20linear%20usando%20Scikit-Learn.ipynb#W6sZmlsZQ%3D%3D?line=1'>2</a>\u001b[0m                                \u001b[39m# A quinta (última) coluna refere-se ao preço pelo qual tais casas foram negociadas\u001b[39;00m\n\u001b[0;32m      <a href='vscode-notebook-cell:/c%3A/Users/leonardo.santos/OneDrive%20-%20ufpr.br/ERE/2023.1/T%C3%B3picos%202/aula10/codigo%20aula%2010%20-%20Regress%C3%A3o%20linear%20usando%20Scikit-Learn.ipynb#W6sZmlsZQ%3D%3D?line=2'>3</a>\u001b[0m dados \u001b[39m=\u001b[39m np\u001b[39m.\u001b[39mloadtxt(file, delimiter\u001b[39m=\u001b[39m\u001b[39m\"\u001b[39m\u001b[39m,\u001b[39m\u001b[39m\"\u001b[39m) \n",
      "File \u001b[1;32mc:\\Users\\leonardo.santos\\AppData\\Local\\Programs\\Python\\Python311\\Lib\\site-packages\\IPython\\core\\interactiveshell.py:282\u001b[0m, in \u001b[0;36m_modified_open\u001b[1;34m(file, *args, **kwargs)\u001b[0m\n\u001b[0;32m    275\u001b[0m \u001b[39mif\u001b[39;00m file \u001b[39min\u001b[39;00m {\u001b[39m0\u001b[39m, \u001b[39m1\u001b[39m, \u001b[39m2\u001b[39m}:\n\u001b[0;32m    276\u001b[0m     \u001b[39mraise\u001b[39;00m \u001b[39mValueError\u001b[39;00m(\n\u001b[0;32m    277\u001b[0m         \u001b[39mf\u001b[39m\u001b[39m\"\u001b[39m\u001b[39mIPython won\u001b[39m\u001b[39m'\u001b[39m\u001b[39mt let you open fd=\u001b[39m\u001b[39m{\u001b[39;00mfile\u001b[39m}\u001b[39;00m\u001b[39m by default \u001b[39m\u001b[39m\"\u001b[39m\n\u001b[0;32m    278\u001b[0m         \u001b[39m\"\u001b[39m\u001b[39mas it is likely to crash IPython. If you know what you are doing, \u001b[39m\u001b[39m\"\u001b[39m\n\u001b[0;32m    279\u001b[0m         \u001b[39m\"\u001b[39m\u001b[39myou can use builtins\u001b[39m\u001b[39m'\u001b[39m\u001b[39m open.\u001b[39m\u001b[39m\"\u001b[39m\n\u001b[0;32m    280\u001b[0m     )\n\u001b[1;32m--> 282\u001b[0m \u001b[39mreturn\u001b[39;00m io_open(file, \u001b[39m*\u001b[39;49margs, \u001b[39m*\u001b[39;49m\u001b[39m*\u001b[39;49mkwargs)\n",
      "\u001b[1;31mFileNotFoundError\u001b[0m: [Errno 2] No such file or directory: 'dados_casas.txt'"
     ]
    }
   ],
   "source": [
    "file = open('dados_casas.txt') # As quatro primeiras colunas referem-se a características das casas.\n",
    "                               # A quinta (última) coluna refere-se ao preço pelo qual tais casas foram negociadas\n",
    "dados = np.loadtxt(file, delimiter=\",\") \n",
    "\n",
    "X_train = dados[:,0:4]\n",
    "y_train = dados[:,-1] # pega apenas a última coluna. Seria o mesmo que y = dados[:,4] \n",
    "\n",
    "X_caracteristicas = ['size(sqft)','bedrooms','floors','age']"
   ]
  },
  {
   "cell_type": "markdown",
   "id": "ee87d07f",
   "metadata": {
    "pycharm": {
     "name": "#%% md\n"
    }
   },
   "source": [
    "### Normalizando os dados"
   ]
  },
  {
   "cell_type": "code",
   "execution_count": null,
   "id": "b2d35f07",
   "metadata": {
    "pycharm": {
     "name": "#%%\n"
    }
   },
   "outputs": [
    {
     "name": "stdout",
     "output_type": "stream",
     "text": [
      "Intervalo pico a pico por característica/coluna nos dados originais  :[2.41e+03 4.00e+00 1.00e+00 9.50e+01]\n",
      "Intervalo pico a pico por característica/coluna nos dados escalonados:[5.84 6.13 2.06 3.68]\n"
     ]
    }
   ],
   "source": [
    "scaler = StandardScaler()\n",
    "X_norm = scaler.fit_transform(X_train)\n",
    "print(f\"Intervalo pico a pico por característica/coluna nos dados originais  :{np.ptp(X_train,axis=0)}\")  \n",
    "print(f\"Intervalo pico a pico por característica/coluna nos dados escalonados:{np.ptp(X_norm,axis=0)}\")"
   ]
  },
  {
   "cell_type": "markdown",
   "id": "126e048e",
   "metadata": {
    "pycharm": {
     "name": "#%% md\n"
    }
   },
   "source": [
    "### Criando e treinando o modelo de regressão"
   ]
  },
  {
   "cell_type": "code",
   "execution_count": 7,
   "id": "f754af76",
   "metadata": {
    "pycharm": {
     "name": "#%%\n"
    }
   },
   "outputs": [
    {
     "name": "stdout",
     "output_type": "stream",
     "text": [
      "SGDRegressor()\n",
      "number of iterations completed: 116, number of weight updates: 11601.0\n"
     ]
    }
   ],
   "source": [
    "sgdr = SGDRegressor(max_iter=1000)\n",
    "sgdr.fit(X_norm, y_train)\n",
    "print(sgdr)\n",
    "print(f\"number of iterations completed: {sgdr.n_iter_}, number of weight updates: {sgdr.t_}\")"
   ]
  },
  {
   "cell_type": "markdown",
   "id": "a6599d8b",
   "metadata": {
    "pycharm": {
     "name": "#%% md\n"
    }
   },
   "source": [
    "### Acessando os parâmetros ajustados para o modelo\n",
    "É importante saber que os parâmetros estarão associados com os dados de entrada *normalizados*. Os valores para tais parâmetros estão bem próximos daqueles encontrados no nosso próprio código de regressão usando o gradiente."
   ]
  },
  {
   "cell_type": "code",
   "execution_count": 8,
   "id": "c1ed4dae",
   "metadata": {
    "pycharm": {
     "name": "#%%\n"
    }
   },
   "outputs": [
    {
     "name": "stdout",
     "output_type": "stream",
     "text": [
      "parâmetros do modelo:                   w: [110.03 -21.19 -32.36 -37.86], b:[362.24]\n",
      "parâmetros do modelo (nosso código):    w: [110.61 -21.47 -32.66 -37.78], b: 362.24\n"
     ]
    }
   ],
   "source": [
    "b_norm = sgdr.intercept_\n",
    "w_norm = sgdr.coef_\n",
    "print(f\"parâmetros do modelo:                   w: {w_norm}, b:{b_norm}\")\n",
    "print( \"parâmetros do modelo (nosso código):    w: [110.61 -21.47 -32.66 -37.78], b: 362.24\")"
   ]
  },
  {
   "cell_type": "markdown",
   "id": "68bb0be0",
   "metadata": {
    "pycharm": {
     "name": "#%% md\n"
    }
   },
   "source": [
    "### Fazendo previsões\n",
    "\n",
    "Fazendo previsões do valor alvo para os dados de treinamento. Para isso, usaremos a rotina `predict`."
   ]
  },
  {
   "cell_type": "code",
   "execution_count": 10,
   "id": "a2ad8fea",
   "metadata": {
    "pycharm": {
     "name": "#%%\n"
    }
   },
   "outputs": [
    {
     "name": "stdout",
     "output_type": "stream",
     "text": [
      "As duas previsões são iguais? True\n",
      "Valores obtidos de previsão:\n",
      "[248.68 295.63 485.64 389.67]\n",
      "Valores alvo: \n",
      "[271.5 300.  509.8 394. ]\n"
     ]
    }
   ],
   "source": [
    "y_pred_sgd = sgdr.predict(X_norm)\n",
    "# Opção 2: Previsão usando w,b diretamente. \n",
    "y_pred = np.dot(X_norm, w_norm) + b_norm  \n",
    "print(f\"As duas previsões são iguais? {(y_pred == y_pred_sgd).all()}\")\n",
    "\n",
    "print(f\"Valores obtidos de previsão:\\n{y_pred[:4]}\" )\n",
    "print(f\"Valores alvo: \\n{y_train[:4]}\")"
   ]
  },
  {
   "cell_type": "markdown",
   "id": "1130b49e",
   "metadata": {
    "pycharm": {
     "name": "#%% md\n"
    }
   },
   "source": [
    "# Um método alternativo ao Gradiente, denominado: Equação Normal\n",
    "\n",
    "\n",
    "Quando falamos especificamente da **Regressão Linear**, a biblioteca Scikit-learn também possui uma ferramenta de regressão alternativa ao método do gradiente, denominada [linear regression model](https://scikit-learn.org/stable/modules/generated/sklearn.linear_model.LinearRegression.html#sklearn.linear_model.LinearRegression), que implementa uma solução fechada (não iterativa) para o problema de regressão linear, e que se baseia na *Equação Normal* do problema dos mínimos quadrados linear.\n",
    "\n",
    "Usaremos essa outra ferramenta de regressão linear fornecida pelo Scikit-Learn e compararemos com os resultados obtidos anteriormente pelo método do gradiente.\n"
   ]
  },
  {
   "cell_type": "code",
   "execution_count": 12,
   "id": "2dff52e5",
   "metadata": {},
   "outputs": [
    {
     "name": "stdout",
     "output_type": "stream",
     "text": [
      "parâmetros do modelo (Método Equação Normal do Scikit-learn) w: [110.61 -21.47 -32.66 -37.78], b:362.23952\n",
      "parâmetros do modelo (Método do Gradiente do Scikit-learn) w: [110.03 -21.19 -32.36 -37.86], b:[362.24]\n",
      "parâmetros do modelo (nosso Método do Gradiente):    w: [110.61 -21.47 -32.66 -37.78], b: 362.24\n"
     ]
    }
   ],
   "source": [
    "from sklearn.linear_model import LinearRegression # a rotina LinearRegression do Scikit learn implementa uma solução específica para esse tipo de problema, denominada Solução Fechada da Equação Normal do problema dos mínimos quadrados\n",
    "\n",
    "modelo_LinReg = LinearRegression()\n",
    "modelo_LinReg.fit(X_norm, y_train) \n",
    "\n",
    "b_LinReg = modelo_LinReg.intercept_\n",
    "w_LinReg = modelo_LinReg.coef_\n",
    "print(f\"parâmetros do modelo (Método Equação Normal do Scikit-learn) w: {w_LinReg}, b:{b_LinReg}\")\n",
    "print(f\"parâmetros do modelo (Método do Gradiente do Scikit-learn) w: {w_norm}, b:{b_norm}\")\n",
    "print( \"parâmetros do modelo (nosso Método do Gradiente):    w: [110.61 -21.47 -32.66 -37.78], b: 362.24\")"
   ]
  },
  {
   "cell_type": "markdown",
   "id": "9efcb718",
   "metadata": {
    "pycharm": {
     "name": "#%% md\n"
    }
   },
   "source": [
    "## Parabéns!\n",
    "Com este código, você:\n",
    "- utilizou pela primeira a poderosa biblioteca, Scikit-Learn!\n",
    "- implementou regressão linear usando o Método do Gradiente e Normalização de características usando essa biblioteca\n",
    "- implementou regressão linear usando a rotina LinearRegression (baseada na Equação Normal) dessa biblioteca."
   ]
  },
  {
   "cell_type": "code",
   "execution_count": 7,
   "id": "15cc620a",
   "metadata": {
    "pycharm": {
     "name": "#%%\n"
    }
   },
   "outputs": [],
   "source": []
  }
 ],
 "metadata": {
  "kernelspec": {
   "display_name": "Python 3 (ipykernel)",
   "language": "python",
   "name": "python3"
  },
  "language_info": {
   "codemirror_mode": {
    "name": "ipython",
    "version": 3
   },
   "file_extension": ".py",
   "mimetype": "text/x-python",
   "name": "python",
   "nbconvert_exporter": "python",
   "pygments_lexer": "ipython3",
   "version": "3.11.3"
  }
 },
 "nbformat": 4,
 "nbformat_minor": 5
}
