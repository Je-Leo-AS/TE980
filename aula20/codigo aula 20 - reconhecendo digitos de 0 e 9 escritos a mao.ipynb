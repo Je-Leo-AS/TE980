{
 "cells": [
  {
   "cell_type": "markdown",
   "metadata": {
    "id": "udyZSKHUdTbT"
   },
   "source": [
    "# Reconhecendo dígitos de 0 e 9 escritos à mao"
   ]
  },
  {
   "cell_type": "markdown",
   "metadata": {
    "id": "ey8D1_6JdTbj",
    "tags": []
   },
   "source": [
    "## Pacotes: \n",
    "\n",
    "Importaremos aqui os seguintes pacotes:\n",
    "- [numpy](https://numpy.org/) é o pacote fundamental para computação científica com Python\n",
    "- [matplotlib](http://matplotlib.org) é uma biblioteca popular para plotar gráficos em Python\n",
    "- [tensorflow](https://www.tensorflow.org/) é uma plataforma popular para Aprendizado de Máquina em Python"
   ]
  },
  {
   "cell_type": "code",
   "execution_count": 1,
   "metadata": {
    "id": "CPUJlM4wdTbk"
   },
   "outputs": [],
   "source": [
    "import numpy as np\n",
    "import tensorflow as tf\n",
    "from tensorflow.keras.models import Sequential\n",
    "from tensorflow.keras.layers import Dense\n",
    "import matplotlib.pyplot as plt\n",
    "%matplotlib inline \n",
    "# O comando '%matplotlib inline' serve para que os gráficos sejam plotados imediatamente após a célula atual\n",
    "\n",
    "import logging\n",
    "logging.getLogger(\"tensorflow\").setLevel(logging.ERROR)\n",
    "tf.autograph.set_verbosity(0)"
   ]
  },
  {
   "cell_type": "markdown",
   "metadata": {
    "id": "S2z1UcUidTbn",
    "tags": []
   },
   "source": [
    "\n",
    "### Definição do Problema\n",
    "\n",
    "Nessa atividade de programação, você irá usar uma rede neural para reconhecer dígitos de 0 a 9 escritos à mão (problema de classificação multi-classes).\n",
    "\n",
    "### Conjunto de dados\n",
    "\n",
    "Começaremos essa atividade carregando os dados \n",
    "\n",
    "- O conjunto de dados contém 5000 amostras de treinamento de dígitos $^1$, de 0 a 9.  \n",
    "\n",
    "    - Cada amostra de treinamento é uma imagem de um dígito em escala cinza com tamanho 20 pixels por 20 pixels\n",
    "        - Cada pixel é representado por um número que indica a intensidade de escala cinza naquele ponto\n",
    "        - A matriz 20 por 20 de pixels é \"desenrolada\" num vetor com 400 elementos\n",
    "        - Cada exemplo de treinamento se torna uma linha na nossa matriz de dados `X`, que possui 400 caracteristicas\n",
    "        - Isso nos leva à matriz X (5000 x 400), onde cada linha é um exemplo de uma imagem de dígito escrito à mão. \n",
    "\n",
    "$$X = \n",
    "\\left(\\begin{array}{cc} \n",
    "--- (x^{(1)}) --- \\\\\n",
    "--- (x^{(2)}) --- \\\\\n",
    "\\vdots \\\\ \n",
    "--- (x^{(m=5000)}) --- \n",
    "\\end{array}\\right)$$ \n",
    "\n",
    "- O conjunto de dados de treinamento também possui vetor `y` com dimensões 5000 x 1, que contém os rótulos corretos para as amostras que estão em `X`\n",
    "    - `y = 0` indica um dígito `0`, `y = 1` indica um dígito `1`, e assim por diante.\n",
    "\n",
    "$^1$<sub> Este é um subconjunto do conjunto de dados de dígitos escritos à mão disponível em  (http://yann.lecun.com/exdb/mnist/)</sub>"
   ]
  },
  {
   "cell_type": "code",
   "execution_count": 2,
   "metadata": {
    "id": "uSZBoXL_dTbp"
   },
   "outputs": [],
   "source": [
    "# Carregando dados\n",
    "X = np.load(\"X.npy\")\n",
    "y = np.load(\"y.npy\")"
   ]
  },
  {
   "cell_type": "markdown",
   "metadata": {
    "id": "mERMHAhOdTbq"
   },
   "source": [
    "\n",
    "#### Olhando as variáveis\n",
    "\n",
    "Vamos agora nos familiarizar com o conjunto de dados.\n",
    "- Uma boa forma para começar é dar print de cada variável e ver o que ela contém\n",
    "\n",
    "O código abaixo dá print dos elementos contidos nas variáveis `X` e `y`"
   ]
  },
  {
   "cell_type": "code",
   "execution_count": 3,
   "metadata": {
    "colab": {
     "base_uri": "https://localhost:8080/"
    },
    "id": "HrXPmfWzdTbr",
    "outputId": "a73d4950-aa3d-4b08-ded1-c44cc6b06e00",
    "scrolled": true
   },
   "outputs": [
    {
     "name": "stdout",
     "output_type": "stream",
     "text": [
      "O primeiro elemento de X é:  [ 0.00000000e+00  0.00000000e+00  0.00000000e+00  0.00000000e+00\n",
      "  0.00000000e+00  0.00000000e+00  0.00000000e+00  0.00000000e+00\n",
      "  0.00000000e+00  0.00000000e+00  0.00000000e+00  0.00000000e+00\n",
      "  0.00000000e+00  0.00000000e+00  0.00000000e+00  0.00000000e+00\n",
      "  0.00000000e+00  0.00000000e+00  0.00000000e+00  0.00000000e+00\n",
      "  0.00000000e+00  0.00000000e+00  0.00000000e+00  0.00000000e+00\n",
      "  0.00000000e+00  0.00000000e+00  0.00000000e+00  0.00000000e+00\n",
      "  0.00000000e+00  0.00000000e+00  0.00000000e+00  0.00000000e+00\n",
      "  0.00000000e+00  0.00000000e+00  0.00000000e+00  0.00000000e+00\n",
      "  0.00000000e+00  0.00000000e+00  0.00000000e+00  0.00000000e+00\n",
      "  0.00000000e+00  0.00000000e+00  0.00000000e+00  0.00000000e+00\n",
      "  0.00000000e+00  0.00000000e+00  0.00000000e+00  0.00000000e+00\n",
      "  0.00000000e+00  0.00000000e+00  0.00000000e+00  0.00000000e+00\n",
      "  0.00000000e+00  0.00000000e+00  0.00000000e+00  0.00000000e+00\n",
      "  0.00000000e+00  0.00000000e+00  0.00000000e+00  0.00000000e+00\n",
      "  0.00000000e+00  0.00000000e+00  0.00000000e+00  0.00000000e+00\n",
      "  0.00000000e+00  0.00000000e+00  0.00000000e+00  8.56059680e-06\n",
      "  1.94035948e-06 -7.37438725e-04 -8.13403799e-03 -1.86104473e-02\n",
      " -1.87412865e-02 -1.87572508e-02 -1.90963542e-02 -1.64039011e-02\n",
      " -3.78191381e-03  3.30347316e-04  1.27655229e-05  0.00000000e+00\n",
      "  0.00000000e+00  0.00000000e+00  0.00000000e+00  0.00000000e+00\n",
      "  0.00000000e+00  0.00000000e+00  1.16421569e-04  1.20052179e-04\n",
      " -1.40444581e-02 -2.84542484e-02  8.03826593e-02  2.66540339e-01\n",
      "  2.73853746e-01  2.78729541e-01  2.74293607e-01  2.24676403e-01\n",
      "  2.77562977e-02 -7.06315478e-03  2.34715414e-04  0.00000000e+00\n",
      "  0.00000000e+00  0.00000000e+00  0.00000000e+00  0.00000000e+00\n",
      "  0.00000000e+00  1.28335523e-17 -3.26286765e-04 -1.38651604e-02\n",
      "  8.15651552e-02  3.82800381e-01  8.57849775e-01  1.00109761e+00\n",
      "  9.69710638e-01  9.30928598e-01  1.00383757e+00  9.64157356e-01\n",
      "  4.49256553e-01 -5.60408259e-03 -3.78319036e-03  0.00000000e+00\n",
      "  0.00000000e+00  0.00000000e+00  0.00000000e+00  5.10620915e-06\n",
      "  4.36410675e-04 -3.95509940e-03 -2.68537241e-02  1.00755014e-01\n",
      "  6.42031710e-01  1.03136838e+00  8.50968614e-01  5.43122379e-01\n",
      "  3.42599738e-01  2.68918777e-01  6.68374643e-01  1.01256958e+00\n",
      "  9.03795598e-01  1.04481574e-01 -1.66424973e-02  0.00000000e+00\n",
      "  0.00000000e+00  0.00000000e+00  0.00000000e+00  2.59875260e-05\n",
      " -3.10606987e-03  7.52456076e-03  1.77539831e-01  7.92890120e-01\n",
      "  9.65626503e-01  4.63166079e-01  6.91720680e-02 -3.64100526e-03\n",
      " -4.12180405e-02 -5.01900656e-02  1.56102907e-01  9.01762651e-01\n",
      "  1.04748346e+00  1.51055252e-01 -2.16044665e-02  0.00000000e+00\n",
      "  0.00000000e+00  0.00000000e+00  5.87012352e-05 -6.40931373e-04\n",
      " -3.23305249e-02  2.78203465e-01  9.36720163e-01  1.04320956e+00\n",
      "  5.98003217e-01 -3.59409041e-03 -2.16751770e-02 -4.81021923e-03\n",
      "  6.16566793e-05 -1.23773318e-02  1.55477482e-01  9.14867477e-01\n",
      "  9.20401348e-01  1.09173902e-01 -1.71058007e-02  0.00000000e+00\n",
      "  0.00000000e+00  1.56250000e-04 -4.27724104e-04 -2.51466503e-02\n",
      "  1.30532561e-01  7.81664862e-01  1.02836583e+00  7.57137601e-01\n",
      "  2.84667194e-01  4.86865128e-03 -3.18688725e-03  0.00000000e+00\n",
      "  8.36492601e-04 -3.70751123e-02  4.52644165e-01  1.03180133e+00\n",
      "  5.39028101e-01 -2.43742611e-03 -4.80290033e-03  0.00000000e+00\n",
      "  0.00000000e+00 -7.03635621e-04 -1.27262443e-02  1.61706648e-01\n",
      "  7.79865383e-01  1.03676705e+00  8.04490400e-01  1.60586724e-01\n",
      " -1.38173339e-02  2.14879493e-03 -2.12622549e-04  2.04248366e-04\n",
      " -6.85907627e-03  4.31712963e-04  7.20680947e-01  8.48136063e-01\n",
      "  1.51383408e-01 -2.28404366e-02  1.98971950e-04  0.00000000e+00\n",
      "  0.00000000e+00 -9.40410539e-03  3.74520505e-02  6.94389110e-01\n",
      "  1.02844844e+00  1.01648066e+00  8.80488426e-01  3.92123945e-01\n",
      " -1.74122413e-02 -1.20098039e-04  5.55215142e-05 -2.23907271e-03\n",
      " -2.76068376e-02  3.68645493e-01  9.36411169e-01  4.59006723e-01\n",
      " -4.24701797e-02  1.17356610e-03  1.88929739e-05  0.00000000e+00\n",
      "  0.00000000e+00 -1.93511951e-02  1.29999794e-01  9.79821705e-01\n",
      "  9.41862388e-01  7.75147704e-01  8.73632241e-01  2.12778350e-01\n",
      " -1.72353349e-02  0.00000000e+00  1.09937426e-03 -2.61793751e-02\n",
      "  1.22872879e-01  8.30812662e-01  7.26501773e-01  5.24441863e-02\n",
      " -6.18971913e-03  0.00000000e+00  0.00000000e+00  0.00000000e+00\n",
      "  0.00000000e+00 -9.36563862e-03  3.68349741e-02  6.99079299e-01\n",
      "  1.00293583e+00  6.05704402e-01  3.27299224e-01 -3.22099249e-02\n",
      " -4.83053002e-02 -4.34069138e-02 -5.75151144e-02  9.55674190e-02\n",
      "  7.26512627e-01  6.95366966e-01  1.47114481e-01 -1.20048679e-02\n",
      " -3.02798203e-04  0.00000000e+00  0.00000000e+00  0.00000000e+00\n",
      "  0.00000000e+00 -6.76572712e-04 -6.51415556e-03  1.17339359e-01\n",
      "  4.21948410e-01  9.93210937e-01  8.82013974e-01  7.45758734e-01\n",
      "  7.23874268e-01  7.23341725e-01  7.20020340e-01  8.45324959e-01\n",
      "  8.31859739e-01  6.88831870e-02 -2.77765012e-02  3.59136710e-04\n",
      "  7.14869281e-05  0.00000000e+00  0.00000000e+00  0.00000000e+00\n",
      "  0.00000000e+00  1.53186275e-04  3.17353553e-04 -2.29167177e-02\n",
      " -4.14402914e-03  3.87038450e-01  5.04583435e-01  7.74885876e-01\n",
      "  9.90037446e-01  1.00769478e+00  1.00851440e+00  7.37905042e-01\n",
      "  2.15455291e-01 -2.69624864e-02  1.32506127e-03  0.00000000e+00\n",
      "  0.00000000e+00  0.00000000e+00  0.00000000e+00  0.00000000e+00\n",
      "  0.00000000e+00  0.00000000e+00  0.00000000e+00  2.36366422e-04\n",
      " -2.26031454e-03 -2.51994485e-02 -3.73889910e-02  6.62121228e-02\n",
      "  2.91134498e-01  3.23055726e-01  3.06260315e-01  8.76070942e-02\n",
      " -2.50581917e-02  2.37438725e-04  0.00000000e+00  0.00000000e+00\n",
      "  0.00000000e+00  0.00000000e+00  0.00000000e+00  0.00000000e+00\n",
      "  0.00000000e+00  0.00000000e+00  0.00000000e+00  0.00000000e+00\n",
      "  0.00000000e+00  6.20939216e-18  6.72618320e-04 -1.13151411e-02\n",
      " -3.54641066e-02 -3.88214912e-02 -3.71077412e-02 -1.33524928e-02\n",
      "  9.90964718e-04  4.89176960e-05  0.00000000e+00  0.00000000e+00\n",
      "  0.00000000e+00  0.00000000e+00  0.00000000e+00  0.00000000e+00\n",
      "  0.00000000e+00  0.00000000e+00  0.00000000e+00  0.00000000e+00\n",
      "  0.00000000e+00  0.00000000e+00  0.00000000e+00  0.00000000e+00\n",
      "  0.00000000e+00  0.00000000e+00  0.00000000e+00  0.00000000e+00\n",
      "  0.00000000e+00  0.00000000e+00  0.00000000e+00  0.00000000e+00\n",
      "  0.00000000e+00  0.00000000e+00  0.00000000e+00  0.00000000e+00\n",
      "  0.00000000e+00  0.00000000e+00  0.00000000e+00  0.00000000e+00\n",
      "  0.00000000e+00  0.00000000e+00  0.00000000e+00  0.00000000e+00\n",
      "  0.00000000e+00  0.00000000e+00  0.00000000e+00  0.00000000e+00\n",
      "  0.00000000e+00  0.00000000e+00  0.00000000e+00  0.00000000e+00\n",
      "  0.00000000e+00  0.00000000e+00  0.00000000e+00  0.00000000e+00]\n"
     ]
    }
   ],
   "source": [
    "print ('O primeiro elemento de X é: ', X[0])"
   ]
  },
  {
   "cell_type": "code",
   "execution_count": 4,
   "metadata": {
    "colab": {
     "base_uri": "https://localhost:8080/"
    },
    "id": "r5Kc7STodTbt",
    "outputId": "44196862-d70f-4c1e-8259-1777152b7c44"
   },
   "outputs": [
    {
     "name": "stdout",
     "output_type": "stream",
     "text": [
      "O primeiro elemento de y é:  0\n",
      "O último elemento de y é:  9\n"
     ]
    }
   ],
   "source": [
    "print ('O primeiro elemento de y é: ', y[0,0])\n",
    "print ('O último elemento de y é: ', y[-1,0])"
   ]
  },
  {
   "cell_type": "markdown",
   "metadata": {
    "id": "4FhTvnSRdTbu"
   },
   "source": [
    "\n",
    "#### Apenas checando as dimensões das nossas variáveis\n",
    "\n",
    "Uma outra forma de nos familiarizarmos com os nossos dados é verificar suas dimensões."
   ]
  },
  {
   "cell_type": "code",
   "execution_count": 5,
   "metadata": {
    "colab": {
     "base_uri": "https://localhost:8080/"
    },
    "id": "PVW69HsJdTbv",
    "outputId": "c7ef4533-3fbf-4650-afb2-659be9db88aa"
   },
   "outputs": [
    {
     "name": "stdout",
     "output_type": "stream",
     "text": [
      "O shape de X é: (5000, 400)\n",
      "O shape de y é: (5000, 1)\n"
     ]
    }
   ],
   "source": [
    "print ('O shape de X é: ' + str(X.shape))\n",
    "print ('O shape de y é: ' + str(y.shape))"
   ]
  },
  {
   "cell_type": "markdown",
   "metadata": {
    "id": "N8ITBjI7dTbv"
   },
   "source": [
    "#### Visualizando os dados\n",
    "\n",
    "- Na célula abaixo, o código seleciona aleatoriamente 64 linhas da matriz `X`, mapeia cada linha de volta para uma imagem em escala cinza 20 por 20 e mostra as imagens todas juntas.\n",
    "- O rótulo de cada imagem é mostrado acima dela"
   ]
  },
  {
   "cell_type": "code",
   "execution_count": 6,
   "metadata": {
    "colab": {
     "base_uri": "https://localhost:8080/",
     "height": 820
    },
    "id": "gLR2RIVMdTbw",
    "outputId": "5d01e873-3b3b-4d57-a08f-7a4202494338"
   },
   "outputs": [
    {
     "data": {
      "image/png": "[encoded data removed]",
      "text/plain": [
       "<Figure size 360x360 with 64 Axes>"
      ]
     },
     "metadata": {
      "needs_background": "light"
     },
     "output_type": "display_data"
    }
   ],
   "source": [
    "import warnings\n",
    "warnings.simplefilter(action='ignore', category=FutureWarning)\n",
    "# Você não precisa modificar nada nessa célula \n",
    "\n",
    "m, n = X.shape\n",
    "\n",
    "fig, axes = plt.subplots(8,8, figsize=(5,5))\n",
    "fig.tight_layout(pad=0.13,rect=[0, 0.03, 1, 0.91]) #[left, bottom, right, top]\n",
    "\n",
    "for i,ax in enumerate(axes.flat):\n",
    "    # Seleciona índices aleatoriamente\n",
    "    random_index = np.random.randint(m)\n",
    "    \n",
    "    # Seleciona as linhas que correspondem aos índices e refaz o shape da imagem usando a função `reshape`\n",
    "    X_random_reshaped = X[random_index].reshape((20,20)).T\n",
    "    \n",
    "    # Mostra a imagem\n",
    "    ax.imshow(X_random_reshaped, cmap='gray')\n",
    "    \n",
    "    # Mostra o rótulo da imagem acima da mesma\n",
    "    ax.set_title(y[random_index,0])\n",
    "    ax.set_axis_off()"
   ]
  },
  {
   "cell_type": "markdown",
   "metadata": {
    "id": "bmZ7UjhRdTbx"
   },
   "source": [
    "\n",
    "### Representação do modelo\n",
    "\n",
    "- A rede neural que você irá usar deve possuir 3 camadas do tipo `dense`.\n",
    "  - lembre-se que nossas entradas são os valores dos pixels das imagens\n",
    "  - Uma vez que as imagens são de tamanho $20\\times20$, temos um total de $400$ características de entrada \n",
    "    "
   ]
  },
  {
   "cell_type": "markdown",
   "metadata": {
    "id": "MnA8V6eYdTby"
   },
   "source": [
    "- A rede neural deve ter $25$ unidades na camada 1, $15$ unidades na camada 2 e $10$ unidades de saída na camada 3 (uma unidade para cada classe). \n",
    "\n",
    "    - Lembre-se que as dimensões dos parâmetros de cada camada são conforme a seguir:\n",
    "        - Se a rede possui numa camada com $s_{out}$ unidades e $s_{in}$ entradas, então\n",
    "            - $W$ terá dimensão $s_{in} \\times s_{out}$.\n",
    "            - $b$ será um vetor com $s_{out}$ elementos\n",
    "  \n",
    "    - Portanto, os shapes de `W` e `b` são:\n",
    "        - Camada 1: O shape de `W1` é (400, 25) e o shape de `b1` é (25,)\n",
    "        - Camada 2: O shape de `W2` é (25,15) e o shape de `b2` é (15,)\n",
    "        - Camada 3: O shape de `W3` é (15,10) e o shape de `b3` é (10,)\n",
    "        \n",
    ">**OBS:** O vetor de bias `b` poderia ser representado como uma array 1-D (n,) ou 2-D (n,1). Tensorflow usa uma representação 1-D e iremos manter essa convenção.               "
   ]
  },
  {
   "cell_type": "markdown",
   "metadata": {
    "id": "lNS4j5UvdTbz"
   },
   "source": [
    "\n",
    "### Implementação do modelo usando Tensorflow\n"
   ]
  },
  {
   "cell_type": "markdown",
   "metadata": {
    "id": "1pWhBbwbdTb1"
   },
   "source": [
    "Abaixo, usamos as funções [Sequential model](https://keras.io/guides/sequential_model/) e [Dense Layer](https://keras.io/api/layers/core_layers/dense/) do Keras para construir a rede desejada."
   ]
  },
  {
   "cell_type": "code",
   "execution_count": 7,
   "metadata": {
    "id": "c7GlD6mgdTb2"
   },
   "outputs": [],
   "source": [
    "tf.random.set_seed(1234) # para resultados consistentes\n",
    "modelo = Sequential(\n",
    "    [               \n",
    "        tf.keras.Input(shape=(400,)),    # especificando a dimensão do vetor de entrada (não é obrigatório especificar)\n",
    "        tf.keras.layers.Dense(25, activation=\"relu\"),\n",
    "        tf.keras.layers.Dense(15, activation=\"relu\"),\n",
    "        tf.keras.layers.Dense(10, activation=\"linear\")\n",
    "    ], name = \"meu_modelo\"   # Na definição do nome do modelo, não pode haver espaços em branco\n",
    ")                            \n"
   ]
  },
  {
   "cell_type": "code",
   "execution_count": 8,
   "metadata": {
    "colab": {
     "base_uri": "https://localhost:8080/"
    },
    "id": "_3wYdMZWdTb3",
    "outputId": "713c688a-d3a5-42fb-8be6-1dd446bad1b0"
   },
   "outputs": [
    {
     "name": "stdout",
     "output_type": "stream",
     "text": [
      "Model: \"meu_modelo\"\n",
      "_________________________________________________________________\n",
      " Layer (type)                Output Shape              Param #   \n",
      "=================================================================\n",
      " dense (Dense)               (None, 25)                10025     \n",
      "                                                                 \n",
      " dense_1 (Dense)             (None, 15)                390       \n",
      "                                                                 \n",
      " dense_2 (Dense)             (None, 10)                160       \n",
      "                                                                 \n",
      "=================================================================\n",
      "Total params: 10,575\n",
      "Trainable params: 10,575\n",
      "Non-trainable params: 0\n",
      "_________________________________________________________________\n"
     ]
    }
   ],
   "source": [
    "modelo.summary()"
   ]
  },
  {
   "cell_type": "markdown",
   "metadata": {
    "id": "jR2c-2h9dTb6"
   },
   "source": [
    "A contagem de parâmetros acima corresponde ao número de elementos w + b do modelo, conforme detalhado abaixo."
   ]
  },
  {
   "cell_type": "code",
   "execution_count": 9,
   "metadata": {
    "colab": {
     "base_uri": "https://localhost:8080/"
    },
    "id": "GbamcI9-dTb7",
    "outputId": "0d566511-d073-4790-9295-e44c5406959d"
   },
   "outputs": [
    {
     "name": "stdout",
     "output_type": "stream",
     "text": [
      "Número param. camada 1 =  10025 , Número param. camada 2 =  390 ,  Número param. camada 3 =  160\n"
     ]
    }
   ],
   "source": [
    "num_params_camada1 = 400 * 25 + 25  # parâmetros W1 + parâmetros b1\n",
    "num_params_camada2 = 25 * 15 + 15   # parâmetros W2 + parâmetros b2\n",
    "num_params_camada3 = 15 * 10 + 10     # parâmetros W3 + parâmetros b3\n",
    "print(\"Número param. camada 1 = \", num_params_camada1, \", Número param. camada 2 = \", num_params_camada2, \",  Número param. camada 3 = \", num_params_camada3 )"
   ]
  },
  {
   "cell_type": "markdown",
   "metadata": {
    "id": "iWUPkyl9dTb7"
   },
   "source": [
    "Vamos examinar agora com cuidado os pesos para verificar que o Tensorflow produziu as mesmas dimensões que nós havíamos calculado anteriormente."
   ]
  },
  {
   "cell_type": "code",
   "execution_count": 10,
   "metadata": {
    "id": "TfucQqgcdTb8"
   },
   "outputs": [],
   "source": [
    "[camada1, camada2, camada3] = modelo.layers"
   ]
  },
  {
   "cell_type": "code",
   "execution_count": 11,
   "metadata": {
    "colab": {
     "base_uri": "https://localhost:8080/"
    },
    "id": "z6yJVRyNdTb8",
    "outputId": "d395c664-bac0-4695-e363-42b3b7125f40"
   },
   "outputs": [
    {
     "name": "stdout",
     "output_type": "stream",
     "text": [
      "W1 shape = (400, 25), b1 shape = (25,)\n",
      "W2 shape = (25, 15), b2 shape = (15,)\n",
      "W3 shape = (15, 10), b3 shape = (10,)\n"
     ]
    }
   ],
   "source": [
    "#### Examinando os shapes dos pesos\n",
    "W1,b1 = camada1.get_weights()\n",
    "W2,b2 = camada2.get_weights()\n",
    "W3,b3 = camada3.get_weights()\n",
    "print(f\"W1 shape = {W1.shape}, b1 shape = {b1.shape}\")\n",
    "print(f\"W2 shape = {W2.shape}, b2 shape = {b2.shape}\")\n",
    "print(f\"W3 shape = {W3.shape}, b3 shape = {b3.shape}\")"
   ]
  },
  {
   "cell_type": "markdown",
   "metadata": {
    "id": "OHv9Z4sFdTb9"
   },
   "source": [
    "O código a seguir define uma função de perda e roda o método do gradiente para ajustar os pesos do modelo aos dados de treinamento (detalhes específicos acerca desses comandos ainda serão abordados)."
   ]
  },
  {
   "cell_type": "code",
   "execution_count": 12,
   "metadata": {
    "colab": {
     "base_uri": "https://localhost:8080/"
    },
    "id": "JQ3ACkE1dTb-",
    "outputId": "557d99ab-7e44-481b-addb-6d08f242bfd7",
    "scrolled": true
   },
   "outputs": [
    {
     "name": "stdout",
     "output_type": "stream",
     "text": [
      "Epoch 1/40\n",
      "157/157 [==============================] - 1s 1ms/step - loss: 1.6413\n",
      "Epoch 2/40\n",
      "157/157 [==============================] - 0s 1ms/step - loss: 0.6666\n",
      "Epoch 3/40\n",
      "157/157 [==============================] - 0s 1ms/step - loss: 0.4205\n",
      "Epoch 4/40\n",
      "157/157 [==============================] - 0s 1ms/step - loss: 0.3391\n",
      "Epoch 5/40\n",
      "157/157 [==============================] - 0s 1ms/step - loss: 0.2960\n",
      "Epoch 6/40\n",
      "157/157 [==============================] - 0s 1ms/step - loss: 0.2668\n",
      "Epoch 7/40\n",
      "157/157 [==============================] - 0s 1ms/step - loss: 0.2434\n",
      "Epoch 8/40\n",
      "157/157 [==============================] - 0s 1ms/step - loss: 0.2229\n",
      "Epoch 9/40\n",
      "157/157 [==============================] - 0s 1ms/step - loss: 0.2108\n",
      "Epoch 10/40\n",
      "157/157 [==============================] - 0s 1ms/step - loss: 0.1908\n",
      "Epoch 11/40\n",
      "157/157 [==============================] - 0s 1ms/step - loss: 0.1791\n",
      "Epoch 12/40\n",
      "157/157 [==============================] - 0s 1ms/step - loss: 0.1690\n",
      "Epoch 13/40\n",
      "157/157 [==============================] - 0s 1ms/step - loss: 0.1575\n",
      "Epoch 14/40\n",
      "157/157 [==============================] - 0s 1ms/step - loss: 0.1476\n",
      "Epoch 15/40\n",
      "157/157 [==============================] - 0s 1ms/step - loss: 0.1370\n",
      "Epoch 16/40\n",
      "157/157 [==============================] - 0s 1ms/step - loss: 0.1320\n",
      "Epoch 17/40\n",
      "157/157 [==============================] - 0s 1ms/step - loss: 0.1241\n",
      "Epoch 18/40\n",
      "157/157 [==============================] - 0s 1ms/step - loss: 0.1168\n",
      "Epoch 19/40\n",
      "157/157 [==============================] - 0s 1ms/step - loss: 0.1115\n",
      "Epoch 20/40\n",
      "157/157 [==============================] - 0s 1ms/step - loss: 0.1045\n",
      "Epoch 21/40\n",
      "157/157 [==============================] - 0s 1ms/step - loss: 0.1002\n",
      "Epoch 22/40\n",
      "157/157 [==============================] - 0s 1ms/step - loss: 0.0959\n",
      "Epoch 23/40\n",
      "157/157 [==============================] - 0s 1ms/step - loss: 0.0905\n",
      "Epoch 24/40\n",
      "157/157 [==============================] - 0s 1ms/step - loss: 0.0835\n",
      "Epoch 25/40\n",
      "157/157 [==============================] - 0s 1ms/step - loss: 0.0786\n",
      "Epoch 26/40\n",
      "157/157 [==============================] - 0s 1ms/step - loss: 0.0744\n",
      "Epoch 27/40\n",
      "157/157 [==============================] - 0s 1ms/step - loss: 0.0721\n",
      "Epoch 28/40\n",
      "157/157 [==============================] - 0s 1ms/step - loss: 0.0687\n",
      "Epoch 29/40\n",
      "157/157 [==============================] - 0s 1ms/step - loss: 0.0624\n",
      "Epoch 30/40\n",
      "157/157 [==============================] - 0s 1ms/step - loss: 0.0593\n",
      "Epoch 31/40\n",
      "157/157 [==============================] - 0s 1ms/step - loss: 0.0569\n",
      "Epoch 32/40\n",
      "157/157 [==============================] - 0s 1ms/step - loss: 0.0545\n",
      "Epoch 33/40\n",
      "157/157 [==============================] - 0s 1ms/step - loss: 0.0510\n",
      "Epoch 34/40\n",
      "157/157 [==============================] - 0s 1ms/step - loss: 0.0449\n",
      "Epoch 35/40\n",
      "157/157 [==============================] - 0s 1ms/step - loss: 0.0449\n",
      "Epoch 36/40\n",
      "157/157 [==============================] - 0s 1ms/step - loss: 0.0428\n",
      "Epoch 37/40\n",
      "157/157 [==============================] - 0s 1ms/step - loss: 0.0389\n",
      "Epoch 38/40\n",
      "157/157 [==============================] - 0s 1ms/step - loss: 0.0387\n",
      "Epoch 39/40\n",
      "157/157 [==============================] - 0s 1ms/step - loss: 0.0345\n",
      "Epoch 40/40\n",
      "157/157 [==============================] - 0s 1ms/step - loss: 0.0328\n"
     ]
    }
   ],
   "source": [
    "modelo.compile(\n",
    "    loss=tf.keras.losses.SparseCategoricalCrossentropy(from_logits=True),\n",
    "    optimizer=tf.keras.optimizers.Adam(0.001),\n",
    ")\n",
    "\n",
    "historico = modelo.fit(\n",
    "    X,y,\n",
    "    epochs=40\n",
    ")"
   ]
  },
  {
   "cell_type": "markdown",
   "metadata": {},
   "source": [
    "#### Lotes e épocas\n",
    "\n",
    "Conforme já mencionado em atividades anteriores, para tornar o processo de treinamento do modelo mais eficiente computacionalmente, ao invés de usarmos, em cada iteração, todas as amostras do conjunto de dados de treinamento (Método do Gradiente Clássico), o Tensorflow usa o método do gradiente em mini-lotes (ou, em inglês, mini-batch gradient descent). \n",
    "\n",
    "No método do gradiente em mini-lotes, o conjunto de dados de treinamento é dividido em 'lotes de amostras'. O tamanho padrão de cada lote no Tensorflow é de 32 exemplos de treinamento.\n",
    "Como há 5000 amostras no nosso conjunto de dados, isso significa que teremos 5000/32=157 lotes.\n",
    "Assim, em cada iteração, o método do gradiente opera em cima de apenas um desses lotes de amostras, passando para o lote seguinte na iteração seguinte.\n",
    "\n",
    "Ao passar por todos os 157 mini-lotes de amostra, significa que método do gradiente completou sua primeira 'varredura' em cima dos dados. O número de varreduras que é feita em cima de todos os dados é também chamado de 'número de épocas'.\n",
    "\n",
    "\n",
    "Com o comando `compile` acima, note que o número de épocas foi definido como sendo 40. Isso significa que o conjunto completo de dados foi 'varrido' 40 vezes no processo de treinamento do modelo. Durante o treinamento do modelo, o progresso de treinamento é mostrado conforme abaixo:\n",
    "```\n",
    "Epoch 3/40\n",
    "157/157 [==============================] - 0s 1ms/step - loss: 2.2770\n",
    "```\n",
    "A primeira linha, `Epoch 1/40`, descreve a época na qual o modelo encontra-se rodando atualmente."
   ]
  },
  {
   "cell_type": "markdown",
   "metadata": {},
   "source": [
    "#### Perda (custo)\n",
    "\n",
    "Nas nossas primeiras aulas, aprendemos que é importante monitorar o custo ao longo do processo de treinamento de um modelo.\n",
    "Idealmente, o custo irá decrescer conforme o número de iterações do algoritmo aumenta. O Tensorflow se refere ao custo pelo termo `perda`. Acima, você pode verificar o custo para cada época a medida que o comando `modelo.fit` estava sendo executado. O Método [.fit](https://www.tensorflow.org/api_docs/python/tf/keras/Model) retorna uma variedade de métricas, incluindo o custo. Essa informação pode ser capturada por meio do atributo `history` presente na variável de saída `historico` acima. Abaixo nós mostramos a evolução do custo ao longo das épocas de treinamento"
   ]
  },
  {
   "cell_type": "code",
   "execution_count": 13,
   "metadata": {},
   "outputs": [
    {
     "data": {
      "image/png": "[encoded data removed]",
      "text/plain": [
       "<Figure size 288x216 with 1 Axes>"
      ]
     },
     "metadata": {
      "needs_background": "light"
     },
     "output_type": "display_data"
    }
   ],
   "source": [
    "fig,ax = plt.subplots(1,1, figsize = (4,3))\n",
    "ax.plot(historico.history['loss'], label='perda')\n",
    "ax.set_ylim([0, 2])\n",
    "ax.set_xlabel('Época')\n",
    "ax.set_ylabel('perda (custo)')\n",
    "ax.legend()\n",
    "ax.grid(True)\n",
    "plt.show()"
   ]
  },
  {
   "cell_type": "markdown",
   "metadata": {
    "id": "suqnzkuJdTb-"
   },
   "source": [
    "Para rodar o modelo para uma amostra para fazer uma previsão, usamos a função do Keras [`predict`](https://www.tensorflow.org/api_docs/python/tf/keras/Model). A entrada da função `predict` é uma array 2-D, por isso usamos a função reshape abaixo."
   ]
  },
  {
   "cell_type": "code",
   "execution_count": 14,
   "metadata": {
    "colab": {
     "base_uri": "https://localhost:8080/"
    },
    "id": "a2Z63V6PdTb_",
    "outputId": "a1aa1e3e-c157-471e-c6ea-804022b3ddb2"
   },
   "outputs": [
    {
     "data": {
      "image/png": "[encoded data removed]",
      "text/plain": [
       "<Figure size 36x36 with 1 Axes>"
      ]
     },
     "metadata": {
      "needs_background": "light"
     },
     "output_type": "display_data"
    },
    {
     "name": "stdout",
     "output_type": "stream",
     "text": [
      "1/1 [==============================] - 0s 70ms/step\n",
      " Prevendo um 2: \n",
      "[[-5.099466   3.6876035  5.966479  -2.0435095 -6.728108  -8.170871\n",
      "  -9.745949   3.2467816 -7.1214824 -8.713547 ]]\n",
      " Índice com o maior valor: 2\n"
     ]
    }
   ],
   "source": [
    "imagem_numero_2 = X[1015]   # exemplo de imagem com dígito 2\n",
    "fig, ax = plt.subplots(1,1, figsize=(0.5,0.5))\n",
    "imagem_numero_2_reshaped = imagem_numero_2.reshape((20,20)).T\n",
    "ax.imshow(imagem_numero_2_reshaped, cmap='gray')\n",
    "plt.show()\n",
    "\n",
    "previsao = modelo.predict(imagem_numero_2.reshape(1,400))  # um 0\n",
    "\n",
    "\n",
    "print(f\" Prevendo um 2: \\n{previsao}\")\n",
    "print(f\" Índice com o maior valor: {np.argmax(previsao)}\")"
   ]
  },
  {
   "cell_type": "markdown",
   "metadata": {},
   "source": [
    "O maior valor de saída da rede neural é previsao[2], indicando que a rede está classificando a imagem como sendo de um dígito 2. Se o problema requer apenas uma seleção, isso já é o suficiente e a função [argmax](https://numpy.org/doc/stable/reference/generated/numpy.argmax.html) já resolve o problema. Por outro lado, se o problema requer uma probabilidade, então precisamos da função softmax:"
   ]
  },
  {
   "cell_type": "code",
   "execution_count": 15,
   "metadata": {},
   "outputs": [
    {
     "name": "stdout",
     "output_type": "stream",
     "text": [
      " probabilidades: \n",
      "[[1.3379427e-03 8.7622013e+00 8.5568947e+01 2.8419882e-02 2.6249874e-04\n",
      "  6.2021616e-05 1.2837952e-05 5.6385403e+00 1.7712785e-04 3.6046433e-05]]\n",
      "Soma das probabilidades: 100.000\n",
      "Conclusão: a rede neural está nos dizendo que trata-se de um 2 com  85.56894659996033 % de certeza\n"
     ]
    }
   ],
   "source": [
    "probabilidades = tf.nn.softmax(previsao)\n",
    "\n",
    "print(f\" probabilidades: \\n{probabilidades*100}\")\n",
    "print(f\"Soma das probabilidades: {np.sum(probabilidades)*100:0.3f}\")\n",
    "print(f\"Conclusão: a rede neural está nos dizendo que trata-se de um 2 com  {100*probabilidades[0,2].numpy()} % de certeza\")"
   ]
  },
  {
   "cell_type": "markdown",
   "metadata": {
    "id": "kfZNnkUidTcA"
   },
   "source": [
    "Vamos agora comparar as previsões com os valores alvo para 64 dígitos aleatoriamente selecionados."
   ]
  },
  {
   "cell_type": "code",
   "execution_count": 16,
   "metadata": {
    "colab": {
     "base_uri": "https://localhost:8080/",
     "height": 1000
    },
    "id": "QQgvp9vCdTcB",
    "outputId": "cffccc8e-aaed-42dd-879c-feca8bbb5c36"
   },
   "outputs": [
    {
     "name": "stdout",
     "output_type": "stream",
     "text": [
      "1/1 [==============================] - 0s 19ms/step\n",
      "1/1 [==============================] - 0s 29ms/step\n",
      "1/1 [==============================] - 0s 22ms/step\n",
      "1/1 [==============================] - 0s 16ms/step\n",
      "1/1 [==============================] - 0s 27ms/step\n",
      "1/1 [==============================] - 0s 23ms/step\n",
      "1/1 [==============================] - 0s 17ms/step\n",
      "1/1 [==============================] - 0s 23ms/step\n",
      "1/1 [==============================] - 0s 23ms/step\n",
      "1/1 [==============================] - 0s 18ms/step\n",
      "1/1 [==============================] - 0s 28ms/step\n",
      "1/1 [==============================] - 0s 25ms/step\n",
      "1/1 [==============================] - 0s 17ms/step\n",
      "1/1 [==============================] - 0s 16ms/step\n",
      "1/1 [==============================] - 0s 28ms/step\n",
      "1/1 [==============================] - 0s 26ms/step\n",
      "1/1 [==============================] - 0s 17ms/step\n",
      "1/1 [==============================] - 0s 27ms/step\n",
      "1/1 [==============================] - 0s 17ms/step\n",
      "1/1 [==============================] - 0s 16ms/step\n",
      "1/1 [==============================] - 0s 21ms/step\n",
      "1/1 [==============================] - 0s 16ms/step\n",
      "1/1 [==============================] - 0s 18ms/step\n",
      "1/1 [==============================] - 0s 26ms/step\n",
      "1/1 [==============================] - 0s 24ms/step\n",
      "1/1 [==============================] - 0s 16ms/step\n",
      "1/1 [==============================] - 0s 28ms/step\n",
      "1/1 [==============================] - 0s 24ms/step\n",
      "1/1 [==============================] - 0s 17ms/step\n",
      "1/1 [==============================] - 0s 28ms/step\n",
      "1/1 [==============================] - 0s 23ms/step\n",
      "1/1 [==============================] - 0s 16ms/step\n",
      "1/1 [==============================] - 0s 22ms/step\n",
      "1/1 [==============================] - 0s 16ms/step\n",
      "1/1 [==============================] - 0s 19ms/step\n",
      "1/1 [==============================] - 0s 24ms/step\n",
      "1/1 [==============================] - 0s 16ms/step\n",
      "1/1 [==============================] - 0s 28ms/step\n",
      "1/1 [==============================] - 0s 22ms/step\n",
      "1/1 [==============================] - 0s 15ms/step\n",
      "1/1 [==============================] - 0s 19ms/step\n",
      "1/1 [==============================] - 0s 16ms/step\n",
      "1/1 [==============================] - 0s 16ms/step\n",
      "1/1 [==============================] - 0s 18ms/step\n",
      "1/1 [==============================] - 0s 26ms/step\n",
      "1/1 [==============================] - 0s 25ms/step\n",
      "1/1 [==============================] - 0s 16ms/step\n",
      "1/1 [==============================] - 0s 31ms/step\n",
      "1/1 [==============================] - 0s 16ms/step\n",
      "1/1 [==============================] - 0s 16ms/step\n",
      "1/1 [==============================] - 0s 17ms/step\n",
      "1/1 [==============================] - 0s 16ms/step\n",
      "1/1 [==============================] - 0s 18ms/step\n",
      "1/1 [==============================] - 0s 16ms/step\n",
      "1/1 [==============================] - 0s 22ms/step\n",
      "1/1 [==============================] - 0s 24ms/step\n",
      "1/1 [==============================] - 0s 17ms/step\n",
      "1/1 [==============================] - 0s 17ms/step\n",
      "1/1 [==============================] - 0s 32ms/step\n",
      "1/1 [==============================] - 0s 15ms/step\n",
      "1/1 [==============================] - 0s 22ms/step\n",
      "1/1 [==============================] - 0s 16ms/step\n",
      "1/1 [==============================] - 0s 30ms/step\n",
      "1/1 [==============================] - 0s 16ms/step\n"
     ]
    },
    {
     "data": {
      "image/png": "[encoded data removed]",
      "text/plain": [
       "<Figure size 360x360 with 64 Axes>"
      ]
     },
     "metadata": {
      "needs_background": "light"
     },
     "output_type": "display_data"
    }
   ],
   "source": [
    "import warnings\n",
    "warnings.simplefilter(action='ignore', category=FutureWarning)\n",
    "\n",
    "m, n = X.shape\n",
    "\n",
    "fig, axes = plt.subplots(8,8, figsize=(5,5)) # figura com 8x8=64 gráficos\n",
    "fig.tight_layout(pad=0.1,rect=[0, 0.03, 1, 0.92]) #[left, bottom, right, top]\n",
    "\n",
    "for i,ax in enumerate(axes.flat): # passando por todos os 64 gráficos da figura\n",
    "    # Seleciona aleatoriamente um índice entre 0 e m\n",
    "    random_index = np.random.randint(m)\n",
    "    \n",
    "    # abaixo selecionamos a linha que corresponde ao índice e fazemos o reshape da imagem\n",
    "    X_random_reshaped = X[random_index].reshape((20,20)).T\n",
    "    \n",
    "    # mostramos a imagem\n",
    "    ax.imshow(X_random_reshaped, cmap='gray')\n",
    "    \n",
    "    # Previsão usando a nossa rede neural\n",
    "    prediction   = modelo.predict(X[random_index].reshape(1,400))\n",
    "    prediction_p = tf.nn.softmax(prediction)\n",
    "    yhat         = np.argmax(prediction_p)\n",
    "    \n",
    "    # Mostra o rótulo e a previsão sobre a imagem\n",
    "    ax.set_title(f\"{y[random_index,0]},{yhat}\")\n",
    "    ax.set_axis_off()\n",
    "fig.suptitle(\"Rótulo, ychapeu\", fontsize=12)\n",
    "plt.show()"
   ]
  },
  {
   "cell_type": "markdown",
   "metadata": {},
   "source": [
    "Abaixo verificamos quantos dígitos foram classificados de forma errada e calculamos a taxa de acerto."
   ]
  },
  {
   "cell_type": "code",
   "execution_count": 17,
   "metadata": {
    "colab": {
     "base_uri": "https://localhost:8080/"
    },
    "id": "fp8aYSsEdTcH",
    "outputId": "649df63d-ac45-42c3-9ef2-46befd9db4da",
    "tags": []
   },
   "outputs": [
    {
     "name": "stdout",
     "output_type": "stream",
     "text": [
      "157/157 [==============================] - 0s 823us/step\n",
      "maior saída: 31.915915      menor saída: -48.86012\n",
      "maior probabilidade: 1.0      menor probabilidade: 1.758624e-33\n",
      "28 imagens classificadas incorretamente de um total de 5000 imagens\n",
      "taxa de acerto (%): 99.44\n"
     ]
    }
   ],
   "source": [
    "Saidas = modelo.predict(X) # calcula a saída da rede neural para todos os exemplos de treinamento\n",
    "\n",
    "print(\"maior saída:\", np.max(Saidas), \"     menor saída:\", np.min(Saidas))\n",
    "\n",
    "Probabilidades = tf.nn.softmax(Saidas).numpy()\n",
    "\n",
    "print(\"maior probabilidade:\", np.max(Probabilidades), \"     menor probabilidade:\", np.min(Probabilidades))\n",
    "\n",
    "Yhat = np.argmax(Probabilidades,axis=1).reshape(-1,1)\n",
    "\n",
    "qtdade_digitos_errados = np.sum(Yhat!=y)\n",
    "qtdade_digitos         = X.shape[0]\n",
    "print(f\"{qtdade_digitos_errados} imagens classificadas incorretamente de um total de {qtdade_digitos} imagens\")\n",
    "\n",
    "taxa_acerto = np.mean((Yhat==y)*100)\n",
    "print(f\"taxa de acerto (%): {taxa_acerto}\")"
   ]
  },
  {
   "cell_type": "markdown",
   "metadata": {
    "id": "I1R7YejodTcP"
   },
   "source": [
    "Abaixo buscamos novamente pelos dígitos classificados incorretamente e mostramos eles."
   ]
  },
  {
   "cell_type": "code",
   "execution_count": 18,
   "metadata": {
    "colab": {
     "base_uri": "https://localhost:8080/",
     "height": 136
    },
    "id": "3_TMvgqIdTcP",
    "outputId": "dc82fa09-a29c-4813-fd6d-0acdb57697f2"
   },
   "outputs": [
    {
     "name": "stdout",
     "output_type": "stream",
     "text": [
      "1/1 [==============================] - 0s 21ms/step\n",
      "1/1 [==============================] - 0s 18ms/step\n",
      "1/1 [==============================] - 0s 24ms/step\n",
      "1/1 [==============================] - 0s 16ms/step\n",
      "1/1 [==============================] - 0s 27ms/step\n",
      "1/1 [==============================] - 0s 22ms/step\n",
      "1/1 [==============================] - 0s 17ms/step\n",
      "1/1 [==============================] - 0s 26ms/step\n"
     ]
    },
    {
     "data": {
      "image/png": "[encoded data removed]",
      "text/plain": [
       "<Figure size 360x86.4 with 8 Axes>"
      ]
     },
     "metadata": {
      "needs_background": "light"
     },
     "output_type": "display_data"
    }
   ],
   "source": [
    "indices = np.where(Yhat!=y)[0]\n",
    "if len(indices) == 0:\n",
    "    print(\"Nenhuma imagem classificada incorretamente!\")\n",
    "else:\n",
    "    cnt = min(8, len(indices)) # mostraremos no máximo 8 dígitos classificados incorretamente.\n",
    "    fig, ax = plt.subplots(1,cnt, figsize=(5,1.2))\n",
    "    fig.tight_layout(pad=0.13,rect=[0, 0.03, 1, 0.80]) #[left, bottom, right, top]\n",
    "\n",
    "    for i in range(cnt):\n",
    "        j = indices[i]\n",
    "        X_reshaped = X[j].reshape((20,20)).T\n",
    "\n",
    "        # Mostrando a imagem\n",
    "        ax[i].imshow(X_reshaped, cmap='gray')\n",
    "\n",
    "        # Fazendo previsão com a nossa rede neural\n",
    "        saidas         = modelo.predict(X[j].reshape(1,400))\n",
    "        probabilidades = tf.nn.softmax(saidas)\n",
    "        yhat           = np.argmax(probabilidades)\n",
    "\n",
    "        # Mostrando o rótulo real e estimado acima da figura\n",
    "        ax[i].set_title(f\"{y[j,0]},{yhat}\",fontsize=10)\n",
    "        ax[i].set_axis_off()\n",
    "        fig.suptitle(\"Rótulo, ychapeu\", fontsize=12)"
   ]
  },
  {
   "cell_type": "markdown",
   "metadata": {
    "id": "GBtk852AdTcQ"
   },
   "source": [
    "\n",
    "### Parabéns!\n",
    "\n",
    "Você construiu e utilizou uma rede neural para classificação multi-classe!"
   ]
  },
  {
   "cell_type": "code",
   "execution_count": null,
   "metadata": {},
   "outputs": [],
   "source": []
  }
 ],
 "metadata": {
  "colab": {
   "provenance": []
  },
  "dl_toc_settings": {
   "rndtag": "89367"
  },
  "kernelspec": {
   "display_name": "Python 3 (ipykernel)",
   "language": "python",
   "name": "python3"
  },
  "language_info": {
   "codemirror_mode": {
    "name": "ipython",
    "version": 3
   },
   "file_extension": ".py",
   "mimetype": "text/x-python",
   "name": "python",
   "nbconvert_exporter": "python",
   "pygments_lexer": "ipython3",
   "version": "3.9.12"
  }
 },
 "nbformat": 4,
 "nbformat_minor": 1
}
